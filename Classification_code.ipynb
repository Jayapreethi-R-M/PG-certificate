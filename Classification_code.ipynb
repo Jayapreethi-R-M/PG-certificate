{
  "nbformat": 4,
  "nbformat_minor": 0,
  "metadata": {
    "colab": {
      "provenance": [],
      "toc_visible": true
    },
    "kernelspec": {
      "name": "python3",
      "display_name": "Python 3"
    },
    "language_info": {
      "name": "python"
    }
  },
  "cells": [
    {
      "cell_type": "markdown",
      "source": [
        "#DATA CLEANING & PREPROCESSING"
      ],
      "metadata": {
        "id": "9v3zaYCOqMge"
      }
    },
    {
      "cell_type": "code",
      "execution_count": null,
      "metadata": {
        "id": "VQl6-vctp1O9"
      },
      "outputs": [],
      "source": [
        "import numpy as np\n",
        "import matplotlib.pyplot as plt\n",
        "import pandas as pd\n",
        "import seaborn as sns\n",
        "color = sns.color_palette()\n",
        "import sklearn.metrics as metrics\n",
        "import warnings\n",
        "warnings.filterwarnings(\"ignore\")"
      ]
    },
    {
      "cell_type": "code",
      "source": [
        "df = pd.read_csv('/content/Social Media Data for DSBA.csv')\n",
        "#Glimpse of Data\n",
        "df.head()"
      ],
      "metadata": {
        "colab": {
          "base_uri": "https://localhost:8080/",
          "height": 226
        },
        "id": "7ZusmPqgq4gK",
        "outputId": "1394e988-3748-4b53-a86a-47b1b083f2f6"
      },
      "execution_count": null,
      "outputs": [
        {
          "output_type": "execute_result",
          "data": {
            "text/plain": [
              "    UserID Taken_product  Yearly_avg_view_on_travel_page preferred_device  \\\n",
              "0  1000001           Yes                           307.0  iOS and Android   \n",
              "1  1000002            No                           367.0              iOS   \n",
              "2  1000003           Yes                           277.0  iOS and Android   \n",
              "3  1000004            No                           247.0              iOS   \n",
              "4  1000005            No                           202.0  iOS and Android   \n",
              "\n",
              "   total_likes_on_outstation_checkin_given yearly_avg_Outstation_checkins  \\\n",
              "0                                  38570.0                              1   \n",
              "1                                   9765.0                              1   \n",
              "2                                  48055.0                              1   \n",
              "3                                  48720.0                              1   \n",
              "4                                  20685.0                              1   \n",
              "\n",
              "  member_in_family preferred_location_type  Yearly_avg_comment_on_travel_page  \\\n",
              "0                2               Financial                               94.0   \n",
              "1                1               Financial                               61.0   \n",
              "2                2                   Other                               92.0   \n",
              "3                4               Financial                               56.0   \n",
              "4                1                 Medical                               40.0   \n",
              "\n",
              "   total_likes_on_outofstation_checkin_received  \\\n",
              "0                                          5993   \n",
              "1                                          5130   \n",
              "2                                          2090   \n",
              "3                                          2909   \n",
              "4                                          3468   \n",
              "\n",
              "   week_since_last_outstation_checkin following_company_page  \\\n",
              "0                                   8                    Yes   \n",
              "1                                   1                     No   \n",
              "2                                   6                    Yes   \n",
              "3                                   1                    Yes   \n",
              "4                                   9                     No   \n",
              "\n",
              "   montly_avg_comment_on_company_page working_flag  travelling_network_rating  \\\n",
              "0                                  11           No                          1   \n",
              "1                                  23          Yes                          4   \n",
              "2                                  15           No                          2   \n",
              "3                                  11           No                          3   \n",
              "4                                  12           No                          4   \n",
              "\n",
              "   Adult_flag  Daily_Avg_mins_spend_on_traveling_page  \n",
              "0           0                                       8  \n",
              "1           1                                      10  \n",
              "2           0                                       7  \n",
              "3           0                                       8  \n",
              "4           1                                       6  "
            ],
            "text/html": [
              "\n",
              "  <div id=\"df-34c58144-92e5-4ac4-b9b8-c7eb3546a3bd\" class=\"colab-df-container\">\n",
              "    <div>\n",
              "<style scoped>\n",
              "    .dataframe tbody tr th:only-of-type {\n",
              "        vertical-align: middle;\n",
              "    }\n",
              "\n",
              "    .dataframe tbody tr th {\n",
              "        vertical-align: top;\n",
              "    }\n",
              "\n",
              "    .dataframe thead th {\n",
              "        text-align: right;\n",
              "    }\n",
              "</style>\n",
              "<table border=\"1\" class=\"dataframe\">\n",
              "  <thead>\n",
              "    <tr style=\"text-align: right;\">\n",
              "      <th></th>\n",
              "      <th>UserID</th>\n",
              "      <th>Taken_product</th>\n",
              "      <th>Yearly_avg_view_on_travel_page</th>\n",
              "      <th>preferred_device</th>\n",
              "      <th>total_likes_on_outstation_checkin_given</th>\n",
              "      <th>yearly_avg_Outstation_checkins</th>\n",
              "      <th>member_in_family</th>\n",
              "      <th>preferred_location_type</th>\n",
              "      <th>Yearly_avg_comment_on_travel_page</th>\n",
              "      <th>total_likes_on_outofstation_checkin_received</th>\n",
              "      <th>week_since_last_outstation_checkin</th>\n",
              "      <th>following_company_page</th>\n",
              "      <th>montly_avg_comment_on_company_page</th>\n",
              "      <th>working_flag</th>\n",
              "      <th>travelling_network_rating</th>\n",
              "      <th>Adult_flag</th>\n",
              "      <th>Daily_Avg_mins_spend_on_traveling_page</th>\n",
              "    </tr>\n",
              "  </thead>\n",
              "  <tbody>\n",
              "    <tr>\n",
              "      <th>0</th>\n",
              "      <td>1000001</td>\n",
              "      <td>Yes</td>\n",
              "      <td>307.0</td>\n",
              "      <td>iOS and Android</td>\n",
              "      <td>38570.0</td>\n",
              "      <td>1</td>\n",
              "      <td>2</td>\n",
              "      <td>Financial</td>\n",
              "      <td>94.0</td>\n",
              "      <td>5993</td>\n",
              "      <td>8</td>\n",
              "      <td>Yes</td>\n",
              "      <td>11</td>\n",
              "      <td>No</td>\n",
              "      <td>1</td>\n",
              "      <td>0</td>\n",
              "      <td>8</td>\n",
              "    </tr>\n",
              "    <tr>\n",
              "      <th>1</th>\n",
              "      <td>1000002</td>\n",
              "      <td>No</td>\n",
              "      <td>367.0</td>\n",
              "      <td>iOS</td>\n",
              "      <td>9765.0</td>\n",
              "      <td>1</td>\n",
              "      <td>1</td>\n",
              "      <td>Financial</td>\n",
              "      <td>61.0</td>\n",
              "      <td>5130</td>\n",
              "      <td>1</td>\n",
              "      <td>No</td>\n",
              "      <td>23</td>\n",
              "      <td>Yes</td>\n",
              "      <td>4</td>\n",
              "      <td>1</td>\n",
              "      <td>10</td>\n",
              "    </tr>\n",
              "    <tr>\n",
              "      <th>2</th>\n",
              "      <td>1000003</td>\n",
              "      <td>Yes</td>\n",
              "      <td>277.0</td>\n",
              "      <td>iOS and Android</td>\n",
              "      <td>48055.0</td>\n",
              "      <td>1</td>\n",
              "      <td>2</td>\n",
              "      <td>Other</td>\n",
              "      <td>92.0</td>\n",
              "      <td>2090</td>\n",
              "      <td>6</td>\n",
              "      <td>Yes</td>\n",
              "      <td>15</td>\n",
              "      <td>No</td>\n",
              "      <td>2</td>\n",
              "      <td>0</td>\n",
              "      <td>7</td>\n",
              "    </tr>\n",
              "    <tr>\n",
              "      <th>3</th>\n",
              "      <td>1000004</td>\n",
              "      <td>No</td>\n",
              "      <td>247.0</td>\n",
              "      <td>iOS</td>\n",
              "      <td>48720.0</td>\n",
              "      <td>1</td>\n",
              "      <td>4</td>\n",
              "      <td>Financial</td>\n",
              "      <td>56.0</td>\n",
              "      <td>2909</td>\n",
              "      <td>1</td>\n",
              "      <td>Yes</td>\n",
              "      <td>11</td>\n",
              "      <td>No</td>\n",
              "      <td>3</td>\n",
              "      <td>0</td>\n",
              "      <td>8</td>\n",
              "    </tr>\n",
              "    <tr>\n",
              "      <th>4</th>\n",
              "      <td>1000005</td>\n",
              "      <td>No</td>\n",
              "      <td>202.0</td>\n",
              "      <td>iOS and Android</td>\n",
              "      <td>20685.0</td>\n",
              "      <td>1</td>\n",
              "      <td>1</td>\n",
              "      <td>Medical</td>\n",
              "      <td>40.0</td>\n",
              "      <td>3468</td>\n",
              "      <td>9</td>\n",
              "      <td>No</td>\n",
              "      <td>12</td>\n",
              "      <td>No</td>\n",
              "      <td>4</td>\n",
              "      <td>1</td>\n",
              "      <td>6</td>\n",
              "    </tr>\n",
              "  </tbody>\n",
              "</table>\n",
              "</div>\n",
              "    <div class=\"colab-df-buttons\">\n",
              "\n",
              "  <div class=\"colab-df-container\">\n",
              "    <button class=\"colab-df-convert\" onclick=\"convertToInteractive('df-34c58144-92e5-4ac4-b9b8-c7eb3546a3bd')\"\n",
              "            title=\"Convert this dataframe to an interactive table.\"\n",
              "            style=\"display:none;\">\n",
              "\n",
              "  <svg xmlns=\"http://www.w3.org/2000/svg\" height=\"24px\" viewBox=\"0 -960 960 960\">\n",
              "    <path d=\"M120-120v-720h720v720H120Zm60-500h600v-160H180v160Zm220 220h160v-160H400v160Zm0 220h160v-160H400v160ZM180-400h160v-160H180v160Zm440 0h160v-160H620v160ZM180-180h160v-160H180v160Zm440 0h160v-160H620v160Z\"/>\n",
              "  </svg>\n",
              "    </button>\n",
              "\n",
              "  <style>\n",
              "    .colab-df-container {\n",
              "      display:flex;\n",
              "      gap: 12px;\n",
              "    }\n",
              "\n",
              "    .colab-df-convert {\n",
              "      background-color: #E8F0FE;\n",
              "      border: none;\n",
              "      border-radius: 50%;\n",
              "      cursor: pointer;\n",
              "      display: none;\n",
              "      fill: #1967D2;\n",
              "      height: 32px;\n",
              "      padding: 0 0 0 0;\n",
              "      width: 32px;\n",
              "    }\n",
              "\n",
              "    .colab-df-convert:hover {\n",
              "      background-color: #E2EBFA;\n",
              "      box-shadow: 0px 1px 2px rgba(60, 64, 67, 0.3), 0px 1px 3px 1px rgba(60, 64, 67, 0.15);\n",
              "      fill: #174EA6;\n",
              "    }\n",
              "\n",
              "    .colab-df-buttons div {\n",
              "      margin-bottom: 4px;\n",
              "    }\n",
              "\n",
              "    [theme=dark] .colab-df-convert {\n",
              "      background-color: #3B4455;\n",
              "      fill: #D2E3FC;\n",
              "    }\n",
              "\n",
              "    [theme=dark] .colab-df-convert:hover {\n",
              "      background-color: #434B5C;\n",
              "      box-shadow: 0px 1px 3px 1px rgba(0, 0, 0, 0.15);\n",
              "      filter: drop-shadow(0px 1px 2px rgba(0, 0, 0, 0.3));\n",
              "      fill: #FFFFFF;\n",
              "    }\n",
              "  </style>\n",
              "\n",
              "    <script>\n",
              "      const buttonEl =\n",
              "        document.querySelector('#df-34c58144-92e5-4ac4-b9b8-c7eb3546a3bd button.colab-df-convert');\n",
              "      buttonEl.style.display =\n",
              "        google.colab.kernel.accessAllowed ? 'block' : 'none';\n",
              "\n",
              "      async function convertToInteractive(key) {\n",
              "        const element = document.querySelector('#df-34c58144-92e5-4ac4-b9b8-c7eb3546a3bd');\n",
              "        const dataTable =\n",
              "          await google.colab.kernel.invokeFunction('convertToInteractive',\n",
              "                                                    [key], {});\n",
              "        if (!dataTable) return;\n",
              "\n",
              "        const docLinkHtml = 'Like what you see? Visit the ' +\n",
              "          '<a target=\"_blank\" href=https://colab.research.google.com/notebooks/data_table.ipynb>data table notebook</a>'\n",
              "          + ' to learn more about interactive tables.';\n",
              "        element.innerHTML = '';\n",
              "        dataTable['output_type'] = 'display_data';\n",
              "        await google.colab.output.renderOutput(dataTable, element);\n",
              "        const docLink = document.createElement('div');\n",
              "        docLink.innerHTML = docLinkHtml;\n",
              "        element.appendChild(docLink);\n",
              "      }\n",
              "    </script>\n",
              "  </div>\n",
              "\n",
              "\n",
              "<div id=\"df-1df5be21-9134-468b-b8e4-5952d92684c1\">\n",
              "  <button class=\"colab-df-quickchart\" onclick=\"quickchart('df-1df5be21-9134-468b-b8e4-5952d92684c1')\"\n",
              "            title=\"Suggest charts\"\n",
              "            style=\"display:none;\">\n",
              "\n",
              "<svg xmlns=\"http://www.w3.org/2000/svg\" height=\"24px\"viewBox=\"0 0 24 24\"\n",
              "     width=\"24px\">\n",
              "    <g>\n",
              "        <path d=\"M19 3H5c-1.1 0-2 .9-2 2v14c0 1.1.9 2 2 2h14c1.1 0 2-.9 2-2V5c0-1.1-.9-2-2-2zM9 17H7v-7h2v7zm4 0h-2V7h2v10zm4 0h-2v-4h2v4z\"/>\n",
              "    </g>\n",
              "</svg>\n",
              "  </button>\n",
              "\n",
              "<style>\n",
              "  .colab-df-quickchart {\n",
              "      --bg-color: #E8F0FE;\n",
              "      --fill-color: #1967D2;\n",
              "      --hover-bg-color: #E2EBFA;\n",
              "      --hover-fill-color: #174EA6;\n",
              "      --disabled-fill-color: #AAA;\n",
              "      --disabled-bg-color: #DDD;\n",
              "  }\n",
              "\n",
              "  [theme=dark] .colab-df-quickchart {\n",
              "      --bg-color: #3B4455;\n",
              "      --fill-color: #D2E3FC;\n",
              "      --hover-bg-color: #434B5C;\n",
              "      --hover-fill-color: #FFFFFF;\n",
              "      --disabled-bg-color: #3B4455;\n",
              "      --disabled-fill-color: #666;\n",
              "  }\n",
              "\n",
              "  .colab-df-quickchart {\n",
              "    background-color: var(--bg-color);\n",
              "    border: none;\n",
              "    border-radius: 50%;\n",
              "    cursor: pointer;\n",
              "    display: none;\n",
              "    fill: var(--fill-color);\n",
              "    height: 32px;\n",
              "    padding: 0;\n",
              "    width: 32px;\n",
              "  }\n",
              "\n",
              "  .colab-df-quickchart:hover {\n",
              "    background-color: var(--hover-bg-color);\n",
              "    box-shadow: 0 1px 2px rgba(60, 64, 67, 0.3), 0 1px 3px 1px rgba(60, 64, 67, 0.15);\n",
              "    fill: var(--button-hover-fill-color);\n",
              "  }\n",
              "\n",
              "  .colab-df-quickchart-complete:disabled,\n",
              "  .colab-df-quickchart-complete:disabled:hover {\n",
              "    background-color: var(--disabled-bg-color);\n",
              "    fill: var(--disabled-fill-color);\n",
              "    box-shadow: none;\n",
              "  }\n",
              "\n",
              "  .colab-df-spinner {\n",
              "    border: 2px solid var(--fill-color);\n",
              "    border-color: transparent;\n",
              "    border-bottom-color: var(--fill-color);\n",
              "    animation:\n",
              "      spin 1s steps(1) infinite;\n",
              "  }\n",
              "\n",
              "  @keyframes spin {\n",
              "    0% {\n",
              "      border-color: transparent;\n",
              "      border-bottom-color: var(--fill-color);\n",
              "      border-left-color: var(--fill-color);\n",
              "    }\n",
              "    20% {\n",
              "      border-color: transparent;\n",
              "      border-left-color: var(--fill-color);\n",
              "      border-top-color: var(--fill-color);\n",
              "    }\n",
              "    30% {\n",
              "      border-color: transparent;\n",
              "      border-left-color: var(--fill-color);\n",
              "      border-top-color: var(--fill-color);\n",
              "      border-right-color: var(--fill-color);\n",
              "    }\n",
              "    40% {\n",
              "      border-color: transparent;\n",
              "      border-right-color: var(--fill-color);\n",
              "      border-top-color: var(--fill-color);\n",
              "    }\n",
              "    60% {\n",
              "      border-color: transparent;\n",
              "      border-right-color: var(--fill-color);\n",
              "    }\n",
              "    80% {\n",
              "      border-color: transparent;\n",
              "      border-right-color: var(--fill-color);\n",
              "      border-bottom-color: var(--fill-color);\n",
              "    }\n",
              "    90% {\n",
              "      border-color: transparent;\n",
              "      border-bottom-color: var(--fill-color);\n",
              "    }\n",
              "  }\n",
              "</style>\n",
              "\n",
              "  <script>\n",
              "    async function quickchart(key) {\n",
              "      const quickchartButtonEl =\n",
              "        document.querySelector('#' + key + ' button');\n",
              "      quickchartButtonEl.disabled = true;  // To prevent multiple clicks.\n",
              "      quickchartButtonEl.classList.add('colab-df-spinner');\n",
              "      try {\n",
              "        const charts = await google.colab.kernel.invokeFunction(\n",
              "            'suggestCharts', [key], {});\n",
              "      } catch (error) {\n",
              "        console.error('Error during call to suggestCharts:', error);\n",
              "      }\n",
              "      quickchartButtonEl.classList.remove('colab-df-spinner');\n",
              "      quickchartButtonEl.classList.add('colab-df-quickchart-complete');\n",
              "    }\n",
              "    (() => {\n",
              "      let quickchartButtonEl =\n",
              "        document.querySelector('#df-1df5be21-9134-468b-b8e4-5952d92684c1 button');\n",
              "      quickchartButtonEl.style.display =\n",
              "        google.colab.kernel.accessAllowed ? 'block' : 'none';\n",
              "    })();\n",
              "  </script>\n",
              "</div>\n",
              "\n",
              "    </div>\n",
              "  </div>\n"
            ]
          },
          "metadata": {},
          "execution_count": 2
        }
      ]
    },
    {
      "cell_type": "code",
      "source": [
        "# Shape of Data\n",
        "print('The number of rows (observations) is',df.shape[0],'\\n''The number of columns (variables) is',df.shape[1])"
      ],
      "metadata": {
        "colab": {
          "base_uri": "https://localhost:8080/"
        },
        "id": "eqZU-swcq-ub",
        "outputId": "5f728e6e-c426-442b-d90f-0b3ea1b82f1f"
      },
      "execution_count": null,
      "outputs": [
        {
          "output_type": "stream",
          "name": "stdout",
          "text": [
            "The number of rows (observations) is 11760 \n",
            "The number of columns (variables) is 17\n"
          ]
        }
      ]
    },
    {
      "cell_type": "code",
      "source": [
        "# Null & Datatypes\n",
        "df.info()"
      ],
      "metadata": {
        "colab": {
          "base_uri": "https://localhost:8080/"
        },
        "id": "79ITs5HerC_7",
        "outputId": "a7381c9d-ceea-4cc9-f066-3b89638f3090"
      },
      "execution_count": null,
      "outputs": [
        {
          "output_type": "stream",
          "name": "stdout",
          "text": [
            "<class 'pandas.core.frame.DataFrame'>\n",
            "RangeIndex: 11760 entries, 0 to 11759\n",
            "Data columns (total 17 columns):\n",
            " #   Column                                        Non-Null Count  Dtype  \n",
            "---  ------                                        --------------  -----  \n",
            " 0   UserID                                        11760 non-null  int64  \n",
            " 1   Taken_product                                 11760 non-null  object \n",
            " 2   Yearly_avg_view_on_travel_page                11179 non-null  float64\n",
            " 3   preferred_device                              11707 non-null  object \n",
            " 4   total_likes_on_outstation_checkin_given       11379 non-null  float64\n",
            " 5   yearly_avg_Outstation_checkins                11685 non-null  object \n",
            " 6   member_in_family                              11760 non-null  object \n",
            " 7   preferred_location_type                       11729 non-null  object \n",
            " 8   Yearly_avg_comment_on_travel_page             11554 non-null  float64\n",
            " 9   total_likes_on_outofstation_checkin_received  11760 non-null  int64  \n",
            " 10  week_since_last_outstation_checkin            11760 non-null  int64  \n",
            " 11  following_company_page                        11657 non-null  object \n",
            " 12  montly_avg_comment_on_company_page            11760 non-null  int64  \n",
            " 13  working_flag                                  11760 non-null  object \n",
            " 14  travelling_network_rating                     11760 non-null  int64  \n",
            " 15  Adult_flag                                    11760 non-null  int64  \n",
            " 16  Daily_Avg_mins_spend_on_traveling_page        11760 non-null  int64  \n",
            "dtypes: float64(3), int64(7), object(7)\n",
            "memory usage: 1.5+ MB\n"
          ]
        }
      ]
    },
    {
      "cell_type": "code",
      "source": [
        "# Description of dataset\n",
        "df.describe()"
      ],
      "metadata": {
        "colab": {
          "base_uri": "https://localhost:8080/",
          "height": 320
        },
        "id": "MoNVE1NkrFw-",
        "outputId": "9148eb2b-6e0f-482d-c9c6-c597b205f7a2"
      },
      "execution_count": null,
      "outputs": [
        {
          "output_type": "execute_result",
          "data": {
            "text/plain": [
              "             UserID  Yearly_avg_view_on_travel_page  \\\n",
              "count  1.176000e+04                    11179.000000   \n",
              "mean   1.005880e+06                      280.830844   \n",
              "std    3.394964e+03                       68.182958   \n",
              "min    1.000001e+06                       35.000000   \n",
              "25%    1.002941e+06                      232.000000   \n",
              "50%    1.005880e+06                      271.000000   \n",
              "75%    1.008820e+06                      324.000000   \n",
              "max    1.011760e+06                      464.000000   \n",
              "\n",
              "       total_likes_on_outstation_checkin_given  \\\n",
              "count                             11379.000000   \n",
              "mean                              28170.481765   \n",
              "std                               14385.032134   \n",
              "min                                3570.000000   \n",
              "25%                               16380.000000   \n",
              "50%                               28076.000000   \n",
              "75%                               40525.000000   \n",
              "max                              252430.000000   \n",
              "\n",
              "       Yearly_avg_comment_on_travel_page  \\\n",
              "count                       11554.000000   \n",
              "mean                           74.790029   \n",
              "std                            24.026650   \n",
              "min                             3.000000   \n",
              "25%                            57.000000   \n",
              "50%                            75.000000   \n",
              "75%                            92.000000   \n",
              "max                           815.000000   \n",
              "\n",
              "       total_likes_on_outofstation_checkin_received  \\\n",
              "count                                  11760.000000   \n",
              "mean                                    6531.699065   \n",
              "std                                     4706.613785   \n",
              "min                                     1009.000000   \n",
              "25%                                     2940.750000   \n",
              "50%                                     4948.000000   \n",
              "75%                                     8393.250000   \n",
              "max                                    20065.000000   \n",
              "\n",
              "       week_since_last_outstation_checkin  montly_avg_comment_on_company_page  \\\n",
              "count                        11760.000000                        11760.000000   \n",
              "mean                             3.203571                           28.661565   \n",
              "std                              2.616365                           48.660504   \n",
              "min                              0.000000                           11.000000   \n",
              "25%                              1.000000                           17.000000   \n",
              "50%                              3.000000                           22.000000   \n",
              "75%                              5.000000                           27.000000   \n",
              "max                             11.000000                          500.000000   \n",
              "\n",
              "       travelling_network_rating    Adult_flag  \\\n",
              "count               11760.000000  11760.000000   \n",
              "mean                    2.712245      0.793878   \n",
              "std                     1.080887      0.851823   \n",
              "min                     1.000000      0.000000   \n",
              "25%                     2.000000      0.000000   \n",
              "50%                     3.000000      1.000000   \n",
              "75%                     4.000000      1.000000   \n",
              "max                     4.000000      3.000000   \n",
              "\n",
              "       Daily_Avg_mins_spend_on_traveling_page  \n",
              "count                            11760.000000  \n",
              "mean                                13.817432  \n",
              "std                                  9.070657  \n",
              "min                                  0.000000  \n",
              "25%                                  8.000000  \n",
              "50%                                 12.000000  \n",
              "75%                                 18.000000  \n",
              "max                                270.000000  "
            ],
            "text/html": [
              "\n",
              "  <div id=\"df-e24d50bc-9351-41f2-b1e9-e0eb78e81ede\" class=\"colab-df-container\">\n",
              "    <div>\n",
              "<style scoped>\n",
              "    .dataframe tbody tr th:only-of-type {\n",
              "        vertical-align: middle;\n",
              "    }\n",
              "\n",
              "    .dataframe tbody tr th {\n",
              "        vertical-align: top;\n",
              "    }\n",
              "\n",
              "    .dataframe thead th {\n",
              "        text-align: right;\n",
              "    }\n",
              "</style>\n",
              "<table border=\"1\" class=\"dataframe\">\n",
              "  <thead>\n",
              "    <tr style=\"text-align: right;\">\n",
              "      <th></th>\n",
              "      <th>UserID</th>\n",
              "      <th>Yearly_avg_view_on_travel_page</th>\n",
              "      <th>total_likes_on_outstation_checkin_given</th>\n",
              "      <th>Yearly_avg_comment_on_travel_page</th>\n",
              "      <th>total_likes_on_outofstation_checkin_received</th>\n",
              "      <th>week_since_last_outstation_checkin</th>\n",
              "      <th>montly_avg_comment_on_company_page</th>\n",
              "      <th>travelling_network_rating</th>\n",
              "      <th>Adult_flag</th>\n",
              "      <th>Daily_Avg_mins_spend_on_traveling_page</th>\n",
              "    </tr>\n",
              "  </thead>\n",
              "  <tbody>\n",
              "    <tr>\n",
              "      <th>count</th>\n",
              "      <td>1.176000e+04</td>\n",
              "      <td>11179.000000</td>\n",
              "      <td>11379.000000</td>\n",
              "      <td>11554.000000</td>\n",
              "      <td>11760.000000</td>\n",
              "      <td>11760.000000</td>\n",
              "      <td>11760.000000</td>\n",
              "      <td>11760.000000</td>\n",
              "      <td>11760.000000</td>\n",
              "      <td>11760.000000</td>\n",
              "    </tr>\n",
              "    <tr>\n",
              "      <th>mean</th>\n",
              "      <td>1.005880e+06</td>\n",
              "      <td>280.830844</td>\n",
              "      <td>28170.481765</td>\n",
              "      <td>74.790029</td>\n",
              "      <td>6531.699065</td>\n",
              "      <td>3.203571</td>\n",
              "      <td>28.661565</td>\n",
              "      <td>2.712245</td>\n",
              "      <td>0.793878</td>\n",
              "      <td>13.817432</td>\n",
              "    </tr>\n",
              "    <tr>\n",
              "      <th>std</th>\n",
              "      <td>3.394964e+03</td>\n",
              "      <td>68.182958</td>\n",
              "      <td>14385.032134</td>\n",
              "      <td>24.026650</td>\n",
              "      <td>4706.613785</td>\n",
              "      <td>2.616365</td>\n",
              "      <td>48.660504</td>\n",
              "      <td>1.080887</td>\n",
              "      <td>0.851823</td>\n",
              "      <td>9.070657</td>\n",
              "    </tr>\n",
              "    <tr>\n",
              "      <th>min</th>\n",
              "      <td>1.000001e+06</td>\n",
              "      <td>35.000000</td>\n",
              "      <td>3570.000000</td>\n",
              "      <td>3.000000</td>\n",
              "      <td>1009.000000</td>\n",
              "      <td>0.000000</td>\n",
              "      <td>11.000000</td>\n",
              "      <td>1.000000</td>\n",
              "      <td>0.000000</td>\n",
              "      <td>0.000000</td>\n",
              "    </tr>\n",
              "    <tr>\n",
              "      <th>25%</th>\n",
              "      <td>1.002941e+06</td>\n",
              "      <td>232.000000</td>\n",
              "      <td>16380.000000</td>\n",
              "      <td>57.000000</td>\n",
              "      <td>2940.750000</td>\n",
              "      <td>1.000000</td>\n",
              "      <td>17.000000</td>\n",
              "      <td>2.000000</td>\n",
              "      <td>0.000000</td>\n",
              "      <td>8.000000</td>\n",
              "    </tr>\n",
              "    <tr>\n",
              "      <th>50%</th>\n",
              "      <td>1.005880e+06</td>\n",
              "      <td>271.000000</td>\n",
              "      <td>28076.000000</td>\n",
              "      <td>75.000000</td>\n",
              "      <td>4948.000000</td>\n",
              "      <td>3.000000</td>\n",
              "      <td>22.000000</td>\n",
              "      <td>3.000000</td>\n",
              "      <td>1.000000</td>\n",
              "      <td>12.000000</td>\n",
              "    </tr>\n",
              "    <tr>\n",
              "      <th>75%</th>\n",
              "      <td>1.008820e+06</td>\n",
              "      <td>324.000000</td>\n",
              "      <td>40525.000000</td>\n",
              "      <td>92.000000</td>\n",
              "      <td>8393.250000</td>\n",
              "      <td>5.000000</td>\n",
              "      <td>27.000000</td>\n",
              "      <td>4.000000</td>\n",
              "      <td>1.000000</td>\n",
              "      <td>18.000000</td>\n",
              "    </tr>\n",
              "    <tr>\n",
              "      <th>max</th>\n",
              "      <td>1.011760e+06</td>\n",
              "      <td>464.000000</td>\n",
              "      <td>252430.000000</td>\n",
              "      <td>815.000000</td>\n",
              "      <td>20065.000000</td>\n",
              "      <td>11.000000</td>\n",
              "      <td>500.000000</td>\n",
              "      <td>4.000000</td>\n",
              "      <td>3.000000</td>\n",
              "      <td>270.000000</td>\n",
              "    </tr>\n",
              "  </tbody>\n",
              "</table>\n",
              "</div>\n",
              "    <div class=\"colab-df-buttons\">\n",
              "\n",
              "  <div class=\"colab-df-container\">\n",
              "    <button class=\"colab-df-convert\" onclick=\"convertToInteractive('df-e24d50bc-9351-41f2-b1e9-e0eb78e81ede')\"\n",
              "            title=\"Convert this dataframe to an interactive table.\"\n",
              "            style=\"display:none;\">\n",
              "\n",
              "  <svg xmlns=\"http://www.w3.org/2000/svg\" height=\"24px\" viewBox=\"0 -960 960 960\">\n",
              "    <path d=\"M120-120v-720h720v720H120Zm60-500h600v-160H180v160Zm220 220h160v-160H400v160Zm0 220h160v-160H400v160ZM180-400h160v-160H180v160Zm440 0h160v-160H620v160ZM180-180h160v-160H180v160Zm440 0h160v-160H620v160Z\"/>\n",
              "  </svg>\n",
              "    </button>\n",
              "\n",
              "  <style>\n",
              "    .colab-df-container {\n",
              "      display:flex;\n",
              "      gap: 12px;\n",
              "    }\n",
              "\n",
              "    .colab-df-convert {\n",
              "      background-color: #E8F0FE;\n",
              "      border: none;\n",
              "      border-radius: 50%;\n",
              "      cursor: pointer;\n",
              "      display: none;\n",
              "      fill: #1967D2;\n",
              "      height: 32px;\n",
              "      padding: 0 0 0 0;\n",
              "      width: 32px;\n",
              "    }\n",
              "\n",
              "    .colab-df-convert:hover {\n",
              "      background-color: #E2EBFA;\n",
              "      box-shadow: 0px 1px 2px rgba(60, 64, 67, 0.3), 0px 1px 3px 1px rgba(60, 64, 67, 0.15);\n",
              "      fill: #174EA6;\n",
              "    }\n",
              "\n",
              "    .colab-df-buttons div {\n",
              "      margin-bottom: 4px;\n",
              "    }\n",
              "\n",
              "    [theme=dark] .colab-df-convert {\n",
              "      background-color: #3B4455;\n",
              "      fill: #D2E3FC;\n",
              "    }\n",
              "\n",
              "    [theme=dark] .colab-df-convert:hover {\n",
              "      background-color: #434B5C;\n",
              "      box-shadow: 0px 1px 3px 1px rgba(0, 0, 0, 0.15);\n",
              "      filter: drop-shadow(0px 1px 2px rgba(0, 0, 0, 0.3));\n",
              "      fill: #FFFFFF;\n",
              "    }\n",
              "  </style>\n",
              "\n",
              "    <script>\n",
              "      const buttonEl =\n",
              "        document.querySelector('#df-e24d50bc-9351-41f2-b1e9-e0eb78e81ede button.colab-df-convert');\n",
              "      buttonEl.style.display =\n",
              "        google.colab.kernel.accessAllowed ? 'block' : 'none';\n",
              "\n",
              "      async function convertToInteractive(key) {\n",
              "        const element = document.querySelector('#df-e24d50bc-9351-41f2-b1e9-e0eb78e81ede');\n",
              "        const dataTable =\n",
              "          await google.colab.kernel.invokeFunction('convertToInteractive',\n",
              "                                                    [key], {});\n",
              "        if (!dataTable) return;\n",
              "\n",
              "        const docLinkHtml = 'Like what you see? Visit the ' +\n",
              "          '<a target=\"_blank\" href=https://colab.research.google.com/notebooks/data_table.ipynb>data table notebook</a>'\n",
              "          + ' to learn more about interactive tables.';\n",
              "        element.innerHTML = '';\n",
              "        dataTable['output_type'] = 'display_data';\n",
              "        await google.colab.output.renderOutput(dataTable, element);\n",
              "        const docLink = document.createElement('div');\n",
              "        docLink.innerHTML = docLinkHtml;\n",
              "        element.appendChild(docLink);\n",
              "      }\n",
              "    </script>\n",
              "  </div>\n",
              "\n",
              "\n",
              "<div id=\"df-e947e9a5-6932-4ac8-98be-e0a8c8ece3ec\">\n",
              "  <button class=\"colab-df-quickchart\" onclick=\"quickchart('df-e947e9a5-6932-4ac8-98be-e0a8c8ece3ec')\"\n",
              "            title=\"Suggest charts\"\n",
              "            style=\"display:none;\">\n",
              "\n",
              "<svg xmlns=\"http://www.w3.org/2000/svg\" height=\"24px\"viewBox=\"0 0 24 24\"\n",
              "     width=\"24px\">\n",
              "    <g>\n",
              "        <path d=\"M19 3H5c-1.1 0-2 .9-2 2v14c0 1.1.9 2 2 2h14c1.1 0 2-.9 2-2V5c0-1.1-.9-2-2-2zM9 17H7v-7h2v7zm4 0h-2V7h2v10zm4 0h-2v-4h2v4z\"/>\n",
              "    </g>\n",
              "</svg>\n",
              "  </button>\n",
              "\n",
              "<style>\n",
              "  .colab-df-quickchart {\n",
              "      --bg-color: #E8F0FE;\n",
              "      --fill-color: #1967D2;\n",
              "      --hover-bg-color: #E2EBFA;\n",
              "      --hover-fill-color: #174EA6;\n",
              "      --disabled-fill-color: #AAA;\n",
              "      --disabled-bg-color: #DDD;\n",
              "  }\n",
              "\n",
              "  [theme=dark] .colab-df-quickchart {\n",
              "      --bg-color: #3B4455;\n",
              "      --fill-color: #D2E3FC;\n",
              "      --hover-bg-color: #434B5C;\n",
              "      --hover-fill-color: #FFFFFF;\n",
              "      --disabled-bg-color: #3B4455;\n",
              "      --disabled-fill-color: #666;\n",
              "  }\n",
              "\n",
              "  .colab-df-quickchart {\n",
              "    background-color: var(--bg-color);\n",
              "    border: none;\n",
              "    border-radius: 50%;\n",
              "    cursor: pointer;\n",
              "    display: none;\n",
              "    fill: var(--fill-color);\n",
              "    height: 32px;\n",
              "    padding: 0;\n",
              "    width: 32px;\n",
              "  }\n",
              "\n",
              "  .colab-df-quickchart:hover {\n",
              "    background-color: var(--hover-bg-color);\n",
              "    box-shadow: 0 1px 2px rgba(60, 64, 67, 0.3), 0 1px 3px 1px rgba(60, 64, 67, 0.15);\n",
              "    fill: var(--button-hover-fill-color);\n",
              "  }\n",
              "\n",
              "  .colab-df-quickchart-complete:disabled,\n",
              "  .colab-df-quickchart-complete:disabled:hover {\n",
              "    background-color: var(--disabled-bg-color);\n",
              "    fill: var(--disabled-fill-color);\n",
              "    box-shadow: none;\n",
              "  }\n",
              "\n",
              "  .colab-df-spinner {\n",
              "    border: 2px solid var(--fill-color);\n",
              "    border-color: transparent;\n",
              "    border-bottom-color: var(--fill-color);\n",
              "    animation:\n",
              "      spin 1s steps(1) infinite;\n",
              "  }\n",
              "\n",
              "  @keyframes spin {\n",
              "    0% {\n",
              "      border-color: transparent;\n",
              "      border-bottom-color: var(--fill-color);\n",
              "      border-left-color: var(--fill-color);\n",
              "    }\n",
              "    20% {\n",
              "      border-color: transparent;\n",
              "      border-left-color: var(--fill-color);\n",
              "      border-top-color: var(--fill-color);\n",
              "    }\n",
              "    30% {\n",
              "      border-color: transparent;\n",
              "      border-left-color: var(--fill-color);\n",
              "      border-top-color: var(--fill-color);\n",
              "      border-right-color: var(--fill-color);\n",
              "    }\n",
              "    40% {\n",
              "      border-color: transparent;\n",
              "      border-right-color: var(--fill-color);\n",
              "      border-top-color: var(--fill-color);\n",
              "    }\n",
              "    60% {\n",
              "      border-color: transparent;\n",
              "      border-right-color: var(--fill-color);\n",
              "    }\n",
              "    80% {\n",
              "      border-color: transparent;\n",
              "      border-right-color: var(--fill-color);\n",
              "      border-bottom-color: var(--fill-color);\n",
              "    }\n",
              "    90% {\n",
              "      border-color: transparent;\n",
              "      border-bottom-color: var(--fill-color);\n",
              "    }\n",
              "  }\n",
              "</style>\n",
              "\n",
              "  <script>\n",
              "    async function quickchart(key) {\n",
              "      const quickchartButtonEl =\n",
              "        document.querySelector('#' + key + ' button');\n",
              "      quickchartButtonEl.disabled = true;  // To prevent multiple clicks.\n",
              "      quickchartButtonEl.classList.add('colab-df-spinner');\n",
              "      try {\n",
              "        const charts = await google.colab.kernel.invokeFunction(\n",
              "            'suggestCharts', [key], {});\n",
              "      } catch (error) {\n",
              "        console.error('Error during call to suggestCharts:', error);\n",
              "      }\n",
              "      quickchartButtonEl.classList.remove('colab-df-spinner');\n",
              "      quickchartButtonEl.classList.add('colab-df-quickchart-complete');\n",
              "    }\n",
              "    (() => {\n",
              "      let quickchartButtonEl =\n",
              "        document.querySelector('#df-e947e9a5-6932-4ac8-98be-e0a8c8ece3ec button');\n",
              "      quickchartButtonEl.style.display =\n",
              "        google.colab.kernel.accessAllowed ? 'block' : 'none';\n",
              "    })();\n",
              "  </script>\n",
              "</div>\n",
              "\n",
              "    </div>\n",
              "  </div>\n"
            ]
          },
          "metadata": {},
          "execution_count": 5
        }
      ]
    },
    {
      "cell_type": "code",
      "source": [
        "# Null Variables\n",
        "df.isnull().sum()"
      ],
      "metadata": {
        "colab": {
          "base_uri": "https://localhost:8080/"
        },
        "id": "Yyc-9moDrLTj",
        "outputId": "d8427dd3-3a7c-4e2b-ed0d-3db92a528d27"
      },
      "execution_count": null,
      "outputs": [
        {
          "output_type": "execute_result",
          "data": {
            "text/plain": [
              "UserID                                            0\n",
              "Taken_product                                     0\n",
              "Yearly_avg_view_on_travel_page                  581\n",
              "preferred_device                                 53\n",
              "total_likes_on_outstation_checkin_given         381\n",
              "yearly_avg_Outstation_checkins                   75\n",
              "member_in_family                                  0\n",
              "preferred_location_type                          31\n",
              "Yearly_avg_comment_on_travel_page               206\n",
              "total_likes_on_outofstation_checkin_received      0\n",
              "week_since_last_outstation_checkin                0\n",
              "following_company_page                          103\n",
              "montly_avg_comment_on_company_page                0\n",
              "working_flag                                      0\n",
              "travelling_network_rating                         0\n",
              "Adult_flag                                        0\n",
              "Daily_Avg_mins_spend_on_traveling_page            0\n",
              "dtype: int64"
            ]
          },
          "metadata": {},
          "execution_count": 6
        }
      ]
    },
    {
      "cell_type": "code",
      "source": [
        "df = df.drop(columns=['UserID'])"
      ],
      "metadata": {
        "id": "xaGeDYv1rvIB"
      },
      "execution_count": null,
      "outputs": []
    },
    {
      "cell_type": "code",
      "source": [
        "# Impute categorical variables with mode\n",
        "categorical_columns = df.select_dtypes(include='object').columns\n",
        "df[categorical_columns] = df[categorical_columns].fillna(df[categorical_columns].mode().iloc[0])\n",
        "\n",
        "# Impute numerical variables with mean\n",
        "numerical_columns = df.select_dtypes(include='number').columns\n",
        "df[numerical_columns] = df[numerical_columns].fillna(df[numerical_columns].mean())"
      ],
      "metadata": {
        "id": "FC8jRWLErUWM"
      },
      "execution_count": null,
      "outputs": []
    },
    {
      "cell_type": "code",
      "source": [
        "# Null Variables imputed\n",
        "df.isnull().sum()"
      ],
      "metadata": {
        "colab": {
          "base_uri": "https://localhost:8080/"
        },
        "id": "AXEgzonzsKZZ",
        "outputId": "7f50b191-642e-4adf-c1f7-a05354c21301"
      },
      "execution_count": null,
      "outputs": [
        {
          "output_type": "execute_result",
          "data": {
            "text/plain": [
              "Taken_product                                   0\n",
              "Yearly_avg_view_on_travel_page                  0\n",
              "preferred_device                                0\n",
              "total_likes_on_outstation_checkin_given         0\n",
              "yearly_avg_Outstation_checkins                  0\n",
              "member_in_family                                0\n",
              "preferred_location_type                         0\n",
              "Yearly_avg_comment_on_travel_page               0\n",
              "total_likes_on_outofstation_checkin_received    0\n",
              "week_since_last_outstation_checkin              0\n",
              "following_company_page                          0\n",
              "montly_avg_comment_on_company_page              0\n",
              "working_flag                                    0\n",
              "travelling_network_rating                       0\n",
              "Adult_flag                                      0\n",
              "Daily_Avg_mins_spend_on_traveling_page          0\n",
              "dtype: int64"
            ]
          },
          "metadata": {},
          "execution_count": 9
        }
      ]
    },
    {
      "cell_type": "code",
      "source": [
        "# Define a function to treat outliers using IQR\n",
        "def treat_outliers_iqr(df, column):\n",
        "    # Calculate the first and third quartiles (Q1 and Q3)\n",
        "      Q1 = df[column].quantile(0.25)\n",
        "      Q3 = df[column].quantile(0.75)\n",
        "      IQR = Q3 - Q1\n",
        "      lower_bound = Q1 - 1.5 * IQR\n",
        "      upper_bound = Q3 + 1.5 * IQR\n",
        "      df[column] = df[column].where((df[column] >= lower_bound) & (df[column] <= upper_bound))\n",
        "for column in numerical_columns:\n",
        "    treat_outliers_iqr(df, column)"
      ],
      "metadata": {
        "id": "Uc4LmuSxsntY"
      },
      "execution_count": null,
      "outputs": []
    },
    {
      "cell_type": "code",
      "source": [
        "df.describe()"
      ],
      "metadata": {
        "colab": {
          "base_uri": "https://localhost:8080/",
          "height": 320
        },
        "id": "_iInLnqBziEb",
        "outputId": "2956bba6-b5d4-4dce-c8c4-ab4b930a298e"
      },
      "execution_count": null,
      "outputs": [
        {
          "output_type": "execute_result",
          "data": {
            "text/plain": [
              "       Yearly_avg_view_on_travel_page  \\\n",
              "count                    11731.000000   \n",
              "mean                       280.712703   \n",
              "std                         65.810879   \n",
              "min                        135.000000   \n",
              "25%                        233.000000   \n",
              "50%                        275.000000   \n",
              "75%                        321.000000   \n",
              "max                        455.000000   \n",
              "\n",
              "       total_likes_on_outstation_checkin_given  \\\n",
              "count                             11756.000000   \n",
              "mean                              28119.689993   \n",
              "std                               13858.918851   \n",
              "min                                3570.000000   \n",
              "25%                               16695.000000   \n",
              "50%                               28170.481765   \n",
              "75%                               40111.250000   \n",
              "max                               52512.000000   \n",
              "\n",
              "       Yearly_avg_comment_on_travel_page  \\\n",
              "count                       11720.000000   \n",
              "mean                           74.837265   \n",
              "std                            21.169813   \n",
              "min                            31.000000   \n",
              "25%                            58.000000   \n",
              "50%                            74.790029   \n",
              "75%                            92.000000   \n",
              "max                           125.000000   \n",
              "\n",
              "       total_likes_on_outofstation_checkin_received  \\\n",
              "count                                  10844.000000   \n",
              "mean                                    5527.435540   \n",
              "std                                     3312.607616   \n",
              "min                                     1009.000000   \n",
              "25%                                     2845.000000   \n",
              "50%                                     4668.000000   \n",
              "75%                                     6844.000000   \n",
              "max                                    16567.000000   \n",
              "\n",
              "       week_since_last_outstation_checkin  montly_avg_comment_on_company_page  \\\n",
              "count                        11760.000000                        11518.000000   \n",
              "mean                             3.203571                           22.452162   \n",
              "std                              2.616365                            6.881898   \n",
              "min                              0.000000                           11.000000   \n",
              "25%                              1.000000                           17.000000   \n",
              "50%                              3.000000                           22.000000   \n",
              "75%                              5.000000                           27.000000   \n",
              "max                             11.000000                           42.000000   \n",
              "\n",
              "       travelling_network_rating    Adult_flag  \\\n",
              "count               11760.000000  11080.000000   \n",
              "mean                    2.712245      0.658484   \n",
              "std                     1.080887      0.673114   \n",
              "min                     1.000000      0.000000   \n",
              "25%                     2.000000      0.000000   \n",
              "50%                     3.000000      1.000000   \n",
              "75%                     4.000000      1.000000   \n",
              "max                     4.000000      2.000000   \n",
              "\n",
              "       Daily_Avg_mins_spend_on_traveling_page  \n",
              "count                            11410.000000  \n",
              "mean                                13.039614  \n",
              "std                                  7.333545  \n",
              "min                                  0.000000  \n",
              "25%                                  8.000000  \n",
              "50%                                 12.000000  \n",
              "75%                                 17.000000  \n",
              "max                                 33.000000  "
            ],
            "text/html": [
              "\n",
              "  <div id=\"df-e2cdf55c-35a6-492a-83ef-2fe9833de462\" class=\"colab-df-container\">\n",
              "    <div>\n",
              "<style scoped>\n",
              "    .dataframe tbody tr th:only-of-type {\n",
              "        vertical-align: middle;\n",
              "    }\n",
              "\n",
              "    .dataframe tbody tr th {\n",
              "        vertical-align: top;\n",
              "    }\n",
              "\n",
              "    .dataframe thead th {\n",
              "        text-align: right;\n",
              "    }\n",
              "</style>\n",
              "<table border=\"1\" class=\"dataframe\">\n",
              "  <thead>\n",
              "    <tr style=\"text-align: right;\">\n",
              "      <th></th>\n",
              "      <th>Yearly_avg_view_on_travel_page</th>\n",
              "      <th>total_likes_on_outstation_checkin_given</th>\n",
              "      <th>Yearly_avg_comment_on_travel_page</th>\n",
              "      <th>total_likes_on_outofstation_checkin_received</th>\n",
              "      <th>week_since_last_outstation_checkin</th>\n",
              "      <th>montly_avg_comment_on_company_page</th>\n",
              "      <th>travelling_network_rating</th>\n",
              "      <th>Adult_flag</th>\n",
              "      <th>Daily_Avg_mins_spend_on_traveling_page</th>\n",
              "    </tr>\n",
              "  </thead>\n",
              "  <tbody>\n",
              "    <tr>\n",
              "      <th>count</th>\n",
              "      <td>11731.000000</td>\n",
              "      <td>11756.000000</td>\n",
              "      <td>11720.000000</td>\n",
              "      <td>10844.000000</td>\n",
              "      <td>11760.000000</td>\n",
              "      <td>11518.000000</td>\n",
              "      <td>11760.000000</td>\n",
              "      <td>11080.000000</td>\n",
              "      <td>11410.000000</td>\n",
              "    </tr>\n",
              "    <tr>\n",
              "      <th>mean</th>\n",
              "      <td>280.712703</td>\n",
              "      <td>28119.689993</td>\n",
              "      <td>74.837265</td>\n",
              "      <td>5527.435540</td>\n",
              "      <td>3.203571</td>\n",
              "      <td>22.452162</td>\n",
              "      <td>2.712245</td>\n",
              "      <td>0.658484</td>\n",
              "      <td>13.039614</td>\n",
              "    </tr>\n",
              "    <tr>\n",
              "      <th>std</th>\n",
              "      <td>65.810879</td>\n",
              "      <td>13858.918851</td>\n",
              "      <td>21.169813</td>\n",
              "      <td>3312.607616</td>\n",
              "      <td>2.616365</td>\n",
              "      <td>6.881898</td>\n",
              "      <td>1.080887</td>\n",
              "      <td>0.673114</td>\n",
              "      <td>7.333545</td>\n",
              "    </tr>\n",
              "    <tr>\n",
              "      <th>min</th>\n",
              "      <td>135.000000</td>\n",
              "      <td>3570.000000</td>\n",
              "      <td>31.000000</td>\n",
              "      <td>1009.000000</td>\n",
              "      <td>0.000000</td>\n",
              "      <td>11.000000</td>\n",
              "      <td>1.000000</td>\n",
              "      <td>0.000000</td>\n",
              "      <td>0.000000</td>\n",
              "    </tr>\n",
              "    <tr>\n",
              "      <th>25%</th>\n",
              "      <td>233.000000</td>\n",
              "      <td>16695.000000</td>\n",
              "      <td>58.000000</td>\n",
              "      <td>2845.000000</td>\n",
              "      <td>1.000000</td>\n",
              "      <td>17.000000</td>\n",
              "      <td>2.000000</td>\n",
              "      <td>0.000000</td>\n",
              "      <td>8.000000</td>\n",
              "    </tr>\n",
              "    <tr>\n",
              "      <th>50%</th>\n",
              "      <td>275.000000</td>\n",
              "      <td>28170.481765</td>\n",
              "      <td>74.790029</td>\n",
              "      <td>4668.000000</td>\n",
              "      <td>3.000000</td>\n",
              "      <td>22.000000</td>\n",
              "      <td>3.000000</td>\n",
              "      <td>1.000000</td>\n",
              "      <td>12.000000</td>\n",
              "    </tr>\n",
              "    <tr>\n",
              "      <th>75%</th>\n",
              "      <td>321.000000</td>\n",
              "      <td>40111.250000</td>\n",
              "      <td>92.000000</td>\n",
              "      <td>6844.000000</td>\n",
              "      <td>5.000000</td>\n",
              "      <td>27.000000</td>\n",
              "      <td>4.000000</td>\n",
              "      <td>1.000000</td>\n",
              "      <td>17.000000</td>\n",
              "    </tr>\n",
              "    <tr>\n",
              "      <th>max</th>\n",
              "      <td>455.000000</td>\n",
              "      <td>52512.000000</td>\n",
              "      <td>125.000000</td>\n",
              "      <td>16567.000000</td>\n",
              "      <td>11.000000</td>\n",
              "      <td>42.000000</td>\n",
              "      <td>4.000000</td>\n",
              "      <td>2.000000</td>\n",
              "      <td>33.000000</td>\n",
              "    </tr>\n",
              "  </tbody>\n",
              "</table>\n",
              "</div>\n",
              "    <div class=\"colab-df-buttons\">\n",
              "\n",
              "  <div class=\"colab-df-container\">\n",
              "    <button class=\"colab-df-convert\" onclick=\"convertToInteractive('df-e2cdf55c-35a6-492a-83ef-2fe9833de462')\"\n",
              "            title=\"Convert this dataframe to an interactive table.\"\n",
              "            style=\"display:none;\">\n",
              "\n",
              "  <svg xmlns=\"http://www.w3.org/2000/svg\" height=\"24px\" viewBox=\"0 -960 960 960\">\n",
              "    <path d=\"M120-120v-720h720v720H120Zm60-500h600v-160H180v160Zm220 220h160v-160H400v160Zm0 220h160v-160H400v160ZM180-400h160v-160H180v160Zm440 0h160v-160H620v160ZM180-180h160v-160H180v160Zm440 0h160v-160H620v160Z\"/>\n",
              "  </svg>\n",
              "    </button>\n",
              "\n",
              "  <style>\n",
              "    .colab-df-container {\n",
              "      display:flex;\n",
              "      gap: 12px;\n",
              "    }\n",
              "\n",
              "    .colab-df-convert {\n",
              "      background-color: #E8F0FE;\n",
              "      border: none;\n",
              "      border-radius: 50%;\n",
              "      cursor: pointer;\n",
              "      display: none;\n",
              "      fill: #1967D2;\n",
              "      height: 32px;\n",
              "      padding: 0 0 0 0;\n",
              "      width: 32px;\n",
              "    }\n",
              "\n",
              "    .colab-df-convert:hover {\n",
              "      background-color: #E2EBFA;\n",
              "      box-shadow: 0px 1px 2px rgba(60, 64, 67, 0.3), 0px 1px 3px 1px rgba(60, 64, 67, 0.15);\n",
              "      fill: #174EA6;\n",
              "    }\n",
              "\n",
              "    .colab-df-buttons div {\n",
              "      margin-bottom: 4px;\n",
              "    }\n",
              "\n",
              "    [theme=dark] .colab-df-convert {\n",
              "      background-color: #3B4455;\n",
              "      fill: #D2E3FC;\n",
              "    }\n",
              "\n",
              "    [theme=dark] .colab-df-convert:hover {\n",
              "      background-color: #434B5C;\n",
              "      box-shadow: 0px 1px 3px 1px rgba(0, 0, 0, 0.15);\n",
              "      filter: drop-shadow(0px 1px 2px rgba(0, 0, 0, 0.3));\n",
              "      fill: #FFFFFF;\n",
              "    }\n",
              "  </style>\n",
              "\n",
              "    <script>\n",
              "      const buttonEl =\n",
              "        document.querySelector('#df-e2cdf55c-35a6-492a-83ef-2fe9833de462 button.colab-df-convert');\n",
              "      buttonEl.style.display =\n",
              "        google.colab.kernel.accessAllowed ? 'block' : 'none';\n",
              "\n",
              "      async function convertToInteractive(key) {\n",
              "        const element = document.querySelector('#df-e2cdf55c-35a6-492a-83ef-2fe9833de462');\n",
              "        const dataTable =\n",
              "          await google.colab.kernel.invokeFunction('convertToInteractive',\n",
              "                                                    [key], {});\n",
              "        if (!dataTable) return;\n",
              "\n",
              "        const docLinkHtml = 'Like what you see? Visit the ' +\n",
              "          '<a target=\"_blank\" href=https://colab.research.google.com/notebooks/data_table.ipynb>data table notebook</a>'\n",
              "          + ' to learn more about interactive tables.';\n",
              "        element.innerHTML = '';\n",
              "        dataTable['output_type'] = 'display_data';\n",
              "        await google.colab.output.renderOutput(dataTable, element);\n",
              "        const docLink = document.createElement('div');\n",
              "        docLink.innerHTML = docLinkHtml;\n",
              "        element.appendChild(docLink);\n",
              "      }\n",
              "    </script>\n",
              "  </div>\n",
              "\n",
              "\n",
              "<div id=\"df-c2e81855-0614-4c7b-9e4d-40b80b1bc549\">\n",
              "  <button class=\"colab-df-quickchart\" onclick=\"quickchart('df-c2e81855-0614-4c7b-9e4d-40b80b1bc549')\"\n",
              "            title=\"Suggest charts\"\n",
              "            style=\"display:none;\">\n",
              "\n",
              "<svg xmlns=\"http://www.w3.org/2000/svg\" height=\"24px\"viewBox=\"0 0 24 24\"\n",
              "     width=\"24px\">\n",
              "    <g>\n",
              "        <path d=\"M19 3H5c-1.1 0-2 .9-2 2v14c0 1.1.9 2 2 2h14c1.1 0 2-.9 2-2V5c0-1.1-.9-2-2-2zM9 17H7v-7h2v7zm4 0h-2V7h2v10zm4 0h-2v-4h2v4z\"/>\n",
              "    </g>\n",
              "</svg>\n",
              "  </button>\n",
              "\n",
              "<style>\n",
              "  .colab-df-quickchart {\n",
              "      --bg-color: #E8F0FE;\n",
              "      --fill-color: #1967D2;\n",
              "      --hover-bg-color: #E2EBFA;\n",
              "      --hover-fill-color: #174EA6;\n",
              "      --disabled-fill-color: #AAA;\n",
              "      --disabled-bg-color: #DDD;\n",
              "  }\n",
              "\n",
              "  [theme=dark] .colab-df-quickchart {\n",
              "      --bg-color: #3B4455;\n",
              "      --fill-color: #D2E3FC;\n",
              "      --hover-bg-color: #434B5C;\n",
              "      --hover-fill-color: #FFFFFF;\n",
              "      --disabled-bg-color: #3B4455;\n",
              "      --disabled-fill-color: #666;\n",
              "  }\n",
              "\n",
              "  .colab-df-quickchart {\n",
              "    background-color: var(--bg-color);\n",
              "    border: none;\n",
              "    border-radius: 50%;\n",
              "    cursor: pointer;\n",
              "    display: none;\n",
              "    fill: var(--fill-color);\n",
              "    height: 32px;\n",
              "    padding: 0;\n",
              "    width: 32px;\n",
              "  }\n",
              "\n",
              "  .colab-df-quickchart:hover {\n",
              "    background-color: var(--hover-bg-color);\n",
              "    box-shadow: 0 1px 2px rgba(60, 64, 67, 0.3), 0 1px 3px 1px rgba(60, 64, 67, 0.15);\n",
              "    fill: var(--button-hover-fill-color);\n",
              "  }\n",
              "\n",
              "  .colab-df-quickchart-complete:disabled,\n",
              "  .colab-df-quickchart-complete:disabled:hover {\n",
              "    background-color: var(--disabled-bg-color);\n",
              "    fill: var(--disabled-fill-color);\n",
              "    box-shadow: none;\n",
              "  }\n",
              "\n",
              "  .colab-df-spinner {\n",
              "    border: 2px solid var(--fill-color);\n",
              "    border-color: transparent;\n",
              "    border-bottom-color: var(--fill-color);\n",
              "    animation:\n",
              "      spin 1s steps(1) infinite;\n",
              "  }\n",
              "\n",
              "  @keyframes spin {\n",
              "    0% {\n",
              "      border-color: transparent;\n",
              "      border-bottom-color: var(--fill-color);\n",
              "      border-left-color: var(--fill-color);\n",
              "    }\n",
              "    20% {\n",
              "      border-color: transparent;\n",
              "      border-left-color: var(--fill-color);\n",
              "      border-top-color: var(--fill-color);\n",
              "    }\n",
              "    30% {\n",
              "      border-color: transparent;\n",
              "      border-left-color: var(--fill-color);\n",
              "      border-top-color: var(--fill-color);\n",
              "      border-right-color: var(--fill-color);\n",
              "    }\n",
              "    40% {\n",
              "      border-color: transparent;\n",
              "      border-right-color: var(--fill-color);\n",
              "      border-top-color: var(--fill-color);\n",
              "    }\n",
              "    60% {\n",
              "      border-color: transparent;\n",
              "      border-right-color: var(--fill-color);\n",
              "    }\n",
              "    80% {\n",
              "      border-color: transparent;\n",
              "      border-right-color: var(--fill-color);\n",
              "      border-bottom-color: var(--fill-color);\n",
              "    }\n",
              "    90% {\n",
              "      border-color: transparent;\n",
              "      border-bottom-color: var(--fill-color);\n",
              "    }\n",
              "  }\n",
              "</style>\n",
              "\n",
              "  <script>\n",
              "    async function quickchart(key) {\n",
              "      const quickchartButtonEl =\n",
              "        document.querySelector('#' + key + ' button');\n",
              "      quickchartButtonEl.disabled = true;  // To prevent multiple clicks.\n",
              "      quickchartButtonEl.classList.add('colab-df-spinner');\n",
              "      try {\n",
              "        const charts = await google.colab.kernel.invokeFunction(\n",
              "            'suggestCharts', [key], {});\n",
              "      } catch (error) {\n",
              "        console.error('Error during call to suggestCharts:', error);\n",
              "      }\n",
              "      quickchartButtonEl.classList.remove('colab-df-spinner');\n",
              "      quickchartButtonEl.classList.add('colab-df-quickchart-complete');\n",
              "    }\n",
              "    (() => {\n",
              "      let quickchartButtonEl =\n",
              "        document.querySelector('#df-c2e81855-0614-4c7b-9e4d-40b80b1bc549 button');\n",
              "      quickchartButtonEl.style.display =\n",
              "        google.colab.kernel.accessAllowed ? 'block' : 'none';\n",
              "    })();\n",
              "  </script>\n",
              "</div>\n",
              "\n",
              "    </div>\n",
              "  </div>\n"
            ]
          },
          "metadata": {},
          "execution_count": 11
        }
      ]
    },
    {
      "cell_type": "code",
      "source": [
        "# renaming variables\n",
        "df = df.rename(columns={'Yearly_avg_view_on_travel_page': 'yearly_avg_Views'})\n",
        "df = df.rename(columns={'total_likes_on_outstation_checkin_given': 'total_likes_checkin'})\n",
        "df = df.rename(columns={'yearly_avg_Outstation_checkins': 'yearly_avg_checkins'})\n",
        "df = df.rename(columns={'Yearly_avg_comment_on_travel_page': 'yearly_avg_Comments'})\n",
        "df = df.rename(columns={'total_likes_on_outofstation_checkin_received': 'total_likes_user_outofstation'})\n",
        "df = df.rename(columns={'week_since_last_outstation_checkin': 'week_since_checkin'})\n",
        "df = df.rename(columns={'montly_avg_comment_on_company_page': 'monthly_avg_comments'})\n",
        "df = df.rename(columns={'Daily_Avg_mins_spend_on_traveling_page': 'daily_avg_mins_travel_page'})\n",
        "df = df.rename(columns={'Taken_product': 'Buy_Ticket'})"
      ],
      "metadata": {
        "id": "3FP5Eoats_xU"
      },
      "execution_count": null,
      "outputs": []
    },
    {
      "cell_type": "code",
      "source": [
        "# Null & Datatypes\n",
        "df.info()"
      ],
      "metadata": {
        "colab": {
          "base_uri": "https://localhost:8080/"
        },
        "id": "J0kOWZRKu9dK",
        "outputId": "13a9574d-b6fa-41e6-9799-75850f8de7bb"
      },
      "execution_count": null,
      "outputs": [
        {
          "output_type": "stream",
          "name": "stdout",
          "text": [
            "<class 'pandas.core.frame.DataFrame'>\n",
            "RangeIndex: 11760 entries, 0 to 11759\n",
            "Data columns (total 16 columns):\n",
            " #   Column                         Non-Null Count  Dtype  \n",
            "---  ------                         --------------  -----  \n",
            " 0   Buy_Ticket                     11760 non-null  object \n",
            " 1   yearly_avg_Views               11731 non-null  float64\n",
            " 2   preferred_device               11760 non-null  object \n",
            " 3   total_likes_checkin            11756 non-null  float64\n",
            " 4   yearly_avg_checkins            11760 non-null  object \n",
            " 5   member_in_family               11760 non-null  object \n",
            " 6   preferred_location_type        11760 non-null  object \n",
            " 7   yearly_avg_Comments            11720 non-null  float64\n",
            " 8   total_likes_user_outofstation  10844 non-null  float64\n",
            " 9   week_since_checkin             11760 non-null  int64  \n",
            " 10  following_company_page         11760 non-null  object \n",
            " 11  monthly_avg_comments           11518 non-null  float64\n",
            " 12  working_flag                   11760 non-null  object \n",
            " 13  travelling_network_rating      11760 non-null  int64  \n",
            " 14  Adult_flag                     11080 non-null  float64\n",
            " 15  daily_avg_mins_travel_page     11410 non-null  float64\n",
            "dtypes: float64(7), int64(2), object(7)\n",
            "memory usage: 1.4+ MB\n"
          ]
        }
      ]
    },
    {
      "cell_type": "code",
      "source": [
        "#Logical changes\n",
        "df[\"preferred_device\"].value_counts()"
      ],
      "metadata": {
        "colab": {
          "base_uri": "https://localhost:8080/"
        },
        "id": "PsGfhAZhvKnv",
        "outputId": "366bdd7b-1705-4d4b-d8f7-f82f82c7ee4b"
      },
      "execution_count": null,
      "outputs": [
        {
          "output_type": "execute_result",
          "data": {
            "text/plain": [
              "Tab                4225\n",
              "iOS and Android    4134\n",
              "Laptop             1108\n",
              "iOS                1095\n",
              "Mobile              600\n",
              "Android             315\n",
              "Android OS          145\n",
              "ANDROID             134\n",
              "Other                 2\n",
              "Others                2\n",
              "Name: preferred_device, dtype: int64"
            ]
          },
          "metadata": {},
          "execution_count": 14
        }
      ]
    },
    {
      "cell_type": "code",
      "source": [
        "df[\"preferred_device\"]=df[\"preferred_device\"].replace('Tab', 'Mobile')\n",
        "df[\"preferred_device\"]=df[\"preferred_device\"].replace('iOS and Android', 'Mobile')\n",
        "df[\"preferred_device\"]=df[\"preferred_device\"].replace('iOS', 'Mobile')\n",
        "df[\"preferred_device\"]=df[\"preferred_device\"].replace('Android', 'Mobile')\n",
        "df[\"preferred_device\"]=df[\"preferred_device\"].replace('Android OS', 'Mobile')\n",
        "df[\"preferred_device\"]=df[\"preferred_device\"].replace('ANDROID', 'Mobile')\n",
        "df[\"preferred_device\"]=df[\"preferred_device\"].replace('Other', 'Mobile')\n",
        "df[\"preferred_device\"]=df[\"preferred_device\"].replace('Others', 'Mobile')"
      ],
      "metadata": {
        "id": "KDNwBK3VvgiB"
      },
      "execution_count": null,
      "outputs": []
    },
    {
      "cell_type": "code",
      "source": [
        "#Logical changes\n",
        "df[\"preferred_device\"].value_counts()"
      ],
      "metadata": {
        "colab": {
          "base_uri": "https://localhost:8080/"
        },
        "id": "SozwGR8LvlpM",
        "outputId": "52e3bcc3-1bc4-443e-885d-a3502b374916"
      },
      "execution_count": null,
      "outputs": [
        {
          "output_type": "execute_result",
          "data": {
            "text/plain": [
              "Mobile    10652\n",
              "Laptop     1108\n",
              "Name: preferred_device, dtype: int64"
            ]
          },
          "metadata": {},
          "execution_count": 16
        }
      ]
    },
    {
      "cell_type": "code",
      "source": [
        "df[\"yearly_avg_checkins\"].value_counts()"
      ],
      "metadata": {
        "colab": {
          "base_uri": "https://localhost:8080/"
        },
        "id": "jZHz-pD5vnCG",
        "outputId": "e7b15052-ae89-4a2c-ea89-55927991b79f"
      },
      "execution_count": null,
      "outputs": [
        {
          "output_type": "execute_result",
          "data": {
            "text/plain": [
              "1     4618\n",
              "2      844\n",
              "10     682\n",
              "9      340\n",
              "7      336\n",
              "3      336\n",
              "8      320\n",
              "5      261\n",
              "4      256\n",
              "16     255\n",
              "6      236\n",
              "11     229\n",
              "24     223\n",
              "29     215\n",
              "23     215\n",
              "18     208\n",
              "15     206\n",
              "26     199\n",
              "20     199\n",
              "25     198\n",
              "28     180\n",
              "19     176\n",
              "14     167\n",
              "17     160\n",
              "12     159\n",
              "22     152\n",
              "13     150\n",
              "21     143\n",
              "27      96\n",
              "*        1\n",
              "Name: yearly_avg_checkins, dtype: int64"
            ]
          },
          "metadata": {},
          "execution_count": 17
        }
      ]
    },
    {
      "cell_type": "code",
      "source": [
        "df[\"yearly_avg_checkins\"]=df[\"yearly_avg_checkins\"].replace('*', '1')"
      ],
      "metadata": {
        "id": "1501bmKQvsZ9"
      },
      "execution_count": null,
      "outputs": []
    },
    {
      "cell_type": "code",
      "source": [
        "#Logical changes\n",
        "df[\"yearly_avg_checkins\"].value_counts()"
      ],
      "metadata": {
        "colab": {
          "base_uri": "https://localhost:8080/"
        },
        "id": "mpMe07FFvwc1",
        "outputId": "1a8c5147-06bf-4090-9c01-bf763bcf2467"
      },
      "execution_count": null,
      "outputs": [
        {
          "output_type": "execute_result",
          "data": {
            "text/plain": [
              "1     4619\n",
              "2      844\n",
              "10     682\n",
              "9      340\n",
              "7      336\n",
              "3      336\n",
              "8      320\n",
              "5      261\n",
              "4      256\n",
              "16     255\n",
              "6      236\n",
              "11     229\n",
              "24     223\n",
              "23     215\n",
              "29     215\n",
              "18     208\n",
              "15     206\n",
              "20     199\n",
              "26     199\n",
              "25     198\n",
              "28     180\n",
              "19     176\n",
              "14     167\n",
              "17     160\n",
              "12     159\n",
              "22     152\n",
              "13     150\n",
              "21     143\n",
              "27      96\n",
              "Name: yearly_avg_checkins, dtype: int64"
            ]
          },
          "metadata": {},
          "execution_count": 19
        }
      ]
    },
    {
      "cell_type": "code",
      "source": [
        "df[\"member_in_family\"].value_counts()"
      ],
      "metadata": {
        "colab": {
          "base_uri": "https://localhost:8080/"
        },
        "id": "XHQQ7cJ4vz9B",
        "outputId": "7939c55e-bcec-4323-f4e6-06956784dfbb"
      },
      "execution_count": null,
      "outputs": [
        {
          "output_type": "execute_result",
          "data": {
            "text/plain": [
              "3        4561\n",
              "4        3184\n",
              "2        2256\n",
              "1        1349\n",
              "5         384\n",
              "Three      15\n",
              "10         11\n",
              "Name: member_in_family, dtype: int64"
            ]
          },
          "metadata": {},
          "execution_count": 20
        }
      ]
    },
    {
      "cell_type": "code",
      "source": [
        "df[\"member_in_family\"]=df[\"member_in_family\"].replace('Three', '3')"
      ],
      "metadata": {
        "id": "Bq3i9dtRv3nJ"
      },
      "execution_count": null,
      "outputs": []
    },
    {
      "cell_type": "code",
      "source": [
        "#Logical changes\n",
        "df[\"member_in_family\"].value_counts()"
      ],
      "metadata": {
        "colab": {
          "base_uri": "https://localhost:8080/"
        },
        "id": "xr4ym7ufv8e7",
        "outputId": "eb5dc277-78c3-4efd-816d-09ca46046e58"
      },
      "execution_count": null,
      "outputs": [
        {
          "output_type": "execute_result",
          "data": {
            "text/plain": [
              "3     4576\n",
              "4     3184\n",
              "2     2256\n",
              "1     1349\n",
              "5      384\n",
              "10      11\n",
              "Name: member_in_family, dtype: int64"
            ]
          },
          "metadata": {},
          "execution_count": 22
        }
      ]
    },
    {
      "cell_type": "code",
      "source": [
        "df[\"following_company_page\"].value_counts()"
      ],
      "metadata": {
        "colab": {
          "base_uri": "https://localhost:8080/"
        },
        "id": "AqxGFDhewDiN",
        "outputId": "7328a3d6-58aa-4277-90ff-8b443a04c550"
      },
      "execution_count": null,
      "outputs": [
        {
          "output_type": "execute_result",
          "data": {
            "text/plain": [
              "No     8458\n",
              "Yes    3285\n",
              "1        12\n",
              "0         5\n",
              "Name: following_company_page, dtype: int64"
            ]
          },
          "metadata": {},
          "execution_count": 23
        }
      ]
    },
    {
      "cell_type": "code",
      "source": [
        "#Logical changes\n",
        "df[\"following_company_page\"]=df[\"following_company_page\"].replace('1', 'Yes')\n",
        "df[\"following_company_page\"]=df[\"following_company_page\"].replace('0', 'No')\n",
        "df[\"following_company_page\"].value_counts()"
      ],
      "metadata": {
        "colab": {
          "base_uri": "https://localhost:8080/"
        },
        "id": "9JroxwXawG-O",
        "outputId": "94e7fd6c-ee61-455d-9bd9-6e210cb35453"
      },
      "execution_count": null,
      "outputs": [
        {
          "output_type": "execute_result",
          "data": {
            "text/plain": [
              "No     8463\n",
              "Yes    3297\n",
              "Name: following_company_page, dtype: int64"
            ]
          },
          "metadata": {},
          "execution_count": 24
        }
      ]
    },
    {
      "cell_type": "code",
      "source": [
        "df[\"Adult_flag\"] = df[\"Adult_flag\"].astype(str)\n",
        "df[\"Adult_flag\"] = df[\"Adult_flag\"].str.strip()\n",
        "print(df[\"Adult_flag\"].unique())"
      ],
      "metadata": {
        "colab": {
          "base_uri": "https://localhost:8080/"
        },
        "id": "JDR3ohIdzquh",
        "outputId": "3f342871-30c8-4714-e2fe-ce2a84f7bec6"
      },
      "execution_count": null,
      "outputs": [
        {
          "output_type": "stream",
          "name": "stdout",
          "text": [
            "['0.0' '1.0' 'nan' '2.0']\n"
          ]
        }
      ]
    },
    {
      "cell_type": "code",
      "source": [
        "df[\"Adult_flag\"]=df[\"Adult_flag\"].replace('2.0', '1.0')\n",
        "df[\"Adult_flag\"]=df[\"Adult_flag\"].replace('0.6584837545126354', '1.0')\n",
        "# Print value counts for debugging\n",
        "print(df[\"Adult_flag\"].value_counts())"
      ],
      "metadata": {
        "colab": {
          "base_uri": "https://localhost:8080/"
        },
        "id": "RbJKITWJzwq5",
        "outputId": "24d038a0-cb20-41dc-9d57-6d281ddc4b30"
      },
      "execution_count": null,
      "outputs": [
        {
          "output_type": "stream",
          "name": "stdout",
          "text": [
            "1.0    6032\n",
            "0.0    5048\n",
            "nan     680\n",
            "Name: Adult_flag, dtype: int64\n"
          ]
        }
      ]
    },
    {
      "cell_type": "markdown",
      "source": [
        "# EXPLORATORY DATA ANALYSIS\n"
      ],
      "metadata": {
        "id": "g4TJYccY0FOY"
      }
    },
    {
      "cell_type": "code",
      "source": [
        "sns.boxplot(x=df['yearly_avg_Views'], y=df['preferred_device'])\n",
        "plt.show()"
      ],
      "metadata": {
        "colab": {
          "base_uri": "https://localhost:8080/",
          "height": 450
        },
        "id": "MufKiSk10L7z",
        "outputId": "0539197c-795d-4737-829b-54dc639f48f8"
      },
      "execution_count": null,
      "outputs": [
        {
          "output_type": "display_data",
          "data": {
            "text/plain": [
              "<Figure size 640x480 with 1 Axes>"
            ],
            "image/png": "[encoded data removed]"
          },
          "metadata": {}
        }
      ]
    },
    {
      "cell_type": "code",
      "source": [
        "sns.boxplot(x=df['total_likes_checkin'], y=df['preferred_device'])\n",
        "plt.show()"
      ],
      "metadata": {
        "colab": {
          "base_uri": "https://localhost:8080/",
          "height": 450
        },
        "id": "9wleKgF40RIK",
        "outputId": "7f08f524-2bc0-44c9-bb08-b38887ea46d8"
      },
      "execution_count": null,
      "outputs": [
        {
          "output_type": "display_data",
          "data": {
            "text/plain": [
              "<Figure size 640x480 with 1 Axes>"
            ],
            "image/png": "[encoded data removed]"
          },
          "metadata": {}
        }
      ]
    },
    {
      "cell_type": "code",
      "source": [
        "sns.boxplot(x=df['yearly_avg_Comments'], y=df['preferred_device'])\n",
        "plt.show()"
      ],
      "metadata": {
        "colab": {
          "base_uri": "https://localhost:8080/",
          "height": 450
        },
        "id": "sVQLef1q0Tig",
        "outputId": "4b5d079c-6cbe-4eae-d369-090f7803e95f"
      },
      "execution_count": null,
      "outputs": [
        {
          "output_type": "display_data",
          "data": {
            "text/plain": [
              "<Figure size 640x480 with 1 Axes>"
            ],
            "image/png": "[encoded data removed]"
          },
          "metadata": {}
        }
      ]
    },
    {
      "cell_type": "code",
      "source": [
        "sns.boxplot(x=df['total_likes_user_outofstation'], y=df['preferred_device'])\n",
        "plt.show()"
      ],
      "metadata": {
        "colab": {
          "base_uri": "https://localhost:8080/",
          "height": 450
        },
        "id": "Yg_RxPHW0TfY",
        "outputId": "8d5ac545-bf2f-49f3-f53a-a82a1a81ad1a"
      },
      "execution_count": null,
      "outputs": [
        {
          "output_type": "display_data",
          "data": {
            "text/plain": [
              "<Figure size 640x480 with 1 Axes>"
            ],
            "image/png": "[encoded data removed]"
          },
          "metadata": {}
        }
      ]
    },
    {
      "cell_type": "code",
      "source": [
        "sns.boxplot(x=df['week_since_checkin'], y=df['preferred_device'])\n",
        "plt.show()"
      ],
      "metadata": {
        "colab": {
          "base_uri": "https://localhost:8080/",
          "height": 450
        },
        "id": "ydHr7XrB0Tb_",
        "outputId": "bfdac349-a3be-4af6-bb07-e3872d4d3fae"
      },
      "execution_count": null,
      "outputs": [
        {
          "output_type": "display_data",
          "data": {
            "text/plain": [
              "<Figure size 640x480 with 1 Axes>"
            ],
            "image/png": "[encoded data removed]"
          },
          "metadata": {}
        }
      ]
    },
    {
      "cell_type": "code",
      "source": [
        "sns.boxplot(x=df['monthly_avg_comments'], y=df['preferred_device'])\n",
        "plt.show()"
      ],
      "metadata": {
        "colab": {
          "base_uri": "https://localhost:8080/",
          "height": 450
        },
        "id": "ROB34ZcM0TXz",
        "outputId": "6f5811c8-9c60-4e60-d7eb-914e286b7d55"
      },
      "execution_count": null,
      "outputs": [
        {
          "output_type": "display_data",
          "data": {
            "text/plain": [
              "<Figure size 640x480 with 1 Axes>"
            ],
            "image/png": "[encoded data removed]"
          },
          "metadata": {}
        }
      ]
    },
    {
      "cell_type": "code",
      "source": [
        "sns.boxplot(x=df['travelling_network_rating'], y=df['preferred_device'])\n",
        "plt.show()"
      ],
      "metadata": {
        "colab": {
          "base_uri": "https://localhost:8080/",
          "height": 450
        },
        "id": "E7zTUvoN0dzg",
        "outputId": "54d6cf5e-d598-43e0-cc82-146d01d566e7"
      },
      "execution_count": null,
      "outputs": [
        {
          "output_type": "display_data",
          "data": {
            "text/plain": [
              "<Figure size 640x480 with 1 Axes>"
            ],
            "image/png": "[encoded data removed]"
          },
          "metadata": {}
        }
      ]
    },
    {
      "cell_type": "code",
      "source": [
        "sns.boxplot(x=df['daily_avg_mins_travel_page'], y=df['preferred_device'])\n",
        "plt.show()"
      ],
      "metadata": {
        "colab": {
          "base_uri": "https://localhost:8080/",
          "height": 450
        },
        "id": "DqBDzwP00dw2",
        "outputId": "b5ae418f-169f-44e0-b388-19c136d13c5a"
      },
      "execution_count": null,
      "outputs": [
        {
          "output_type": "display_data",
          "data": {
            "text/plain": [
              "<Figure size 640x480 with 1 Axes>"
            ],
            "image/png": "[encoded data removed]"
          },
          "metadata": {}
        }
      ]
    },
    {
      "cell_type": "code",
      "source": [
        "sns.countplot(x=df['Buy_Ticket'], hue=df['preferred_device'], palette='pastel')\n",
        "plt.show()"
      ],
      "metadata": {
        "colab": {
          "base_uri": "https://localhost:8080/",
          "height": 450
        },
        "id": "Z1wfiBcz0duR",
        "outputId": "d6fa52c5-102f-474c-9a74-7170a3aba308"
      },
      "execution_count": null,
      "outputs": [
        {
          "output_type": "display_data",
          "data": {
            "text/plain": [
              "<Figure size 640x480 with 1 Axes>"
            ],
            "image/png": "[encoded data removed]"
          },
          "metadata": {}
        }
      ]
    },
    {
      "cell_type": "code",
      "source": [
        "sns.countplot(x= df[\"preferred_device\"], palette='pastel')\n",
        "plt.show()"
      ],
      "metadata": {
        "colab": {
          "base_uri": "https://localhost:8080/",
          "height": 450
        },
        "id": "-RgdnRbr0drI",
        "outputId": "87732223-0a5c-4969-cac6-d67690c2f486"
      },
      "execution_count": null,
      "outputs": [
        {
          "output_type": "display_data",
          "data": {
            "text/plain": [
              "<Figure size 640x480 with 1 Axes>"
            ],
            "image/png": "[encoded data removed]"
          },
          "metadata": {}
        }
      ]
    },
    {
      "cell_type": "code",
      "source": [
        "plt.figure(figsize=(15, 5))\n",
        "sns.countplot(x=df['yearly_avg_checkins'], hue=df['preferred_device'], palette='pastel')\n",
        "plt.xticks(rotation=90)\n",
        "plt.show()"
      ],
      "metadata": {
        "colab": {
          "base_uri": "https://localhost:8080/",
          "height": 469
        },
        "id": "crrGAUbr0doR",
        "outputId": "fa626f5f-4db1-4a51-e2dc-6c10103f21ad"
      },
      "execution_count": null,
      "outputs": [
        {
          "output_type": "display_data",
          "data": {
            "text/plain": [
              "<Figure size 1500x500 with 1 Axes>"
            ],
            "image/png": "[encoded data removed]"
          },
          "metadata": {}
        }
      ]
    },
    {
      "cell_type": "code",
      "source": [
        "sns.countplot(x=df['member_in_family'], hue=df['preferred_device'], palette='pastel')\n",
        "plt.show()"
      ],
      "metadata": {
        "colab": {
          "base_uri": "https://localhost:8080/",
          "height": 450
        },
        "id": "4bPhAYgM0dlX",
        "outputId": "eb9d67e4-4412-4e52-fbe4-0f8bbf9bb01e"
      },
      "execution_count": null,
      "outputs": [
        {
          "output_type": "display_data",
          "data": {
            "text/plain": [
              "<Figure size 640x480 with 1 Axes>"
            ],
            "image/png": "[encoded data removed]"
          },
          "metadata": {}
        }
      ]
    },
    {
      "cell_type": "code",
      "source": [
        "plt.figure(figsize=(15, 5))\n",
        "sns.countplot(x=df['preferred_location_type'], hue=df['preferred_device'], palette='pastel')\n",
        "plt.xticks(rotation=90)\n",
        "plt.show()"
      ],
      "metadata": {
        "colab": {
          "base_uri": "https://localhost:8080/",
          "height": 558
        },
        "id": "hxl7iSAD01ag",
        "outputId": "2ee87945-261d-4a71-9b5c-fc0ee2775900"
      },
      "execution_count": null,
      "outputs": [
        {
          "output_type": "display_data",
          "data": {
            "text/plain": [
              "<Figure size 1500x500 with 1 Axes>"
            ],
            "image/png": "[encoded data removed]"
          },
          "metadata": {}
        }
      ]
    },
    {
      "cell_type": "code",
      "source": [
        "sns.countplot(x=df['following_company_page'], hue=df['preferred_device'], palette='pastel')\n",
        "plt.show()"
      ],
      "metadata": {
        "colab": {
          "base_uri": "https://localhost:8080/",
          "height": 451
        },
        "id": "Ia1a6eIb04aq",
        "outputId": "5f8a0d23-4e73-4d3f-8b54-604eff1764e4"
      },
      "execution_count": null,
      "outputs": [
        {
          "output_type": "display_data",
          "data": {
            "text/plain": [
              "<Figure size 640x480 with 1 Axes>"
            ],
            "image/png": "[encoded data removed]"
          },
          "metadata": {}
        }
      ]
    },
    {
      "cell_type": "code",
      "source": [
        "sns.countplot(x=df['working_flag'], hue=df['preferred_device'], palette='pastel')\n",
        "plt.show()"
      ],
      "metadata": {
        "colab": {
          "base_uri": "https://localhost:8080/",
          "height": 450
        },
        "id": "hrCwO94X04X0",
        "outputId": "8ca06941-b163-4670-fe2e-ea003f995593"
      },
      "execution_count": null,
      "outputs": [
        {
          "output_type": "display_data",
          "data": {
            "text/plain": [
              "<Figure size 640x480 with 1 Axes>"
            ],
            "image/png": "[encoded data removed]"
          },
          "metadata": {}
        }
      ]
    },
    {
      "cell_type": "code",
      "source": [
        "plt.figure(figsize=(15, 8))\n",
        "# Create subplots for each 'preferred_device'\n",
        "sns.catplot(x='Buy_Ticket', hue='preferred_location_type', col='preferred_device', data=df, kind='count', palette='pastel', height=6, aspect=0.8)\n",
        "plt.show()"
      ],
      "metadata": {
        "colab": {
          "base_uri": "https://localhost:8080/",
          "height": 624
        },
        "id": "j-3ecwUV04ST",
        "outputId": "e61a7211-dc82-49b3-ec87-eaed5c760eb3"
      },
      "execution_count": null,
      "outputs": [
        {
          "output_type": "display_data",
          "data": {
            "text/plain": [
              "<Figure size 1500x800 with 0 Axes>"
            ]
          },
          "metadata": {}
        },
        {
          "output_type": "display_data",
          "data": {
            "text/plain": [
              "<Figure size 1136.24x600 with 2 Axes>"
            ],
            "image/png": "[encoded data removed]"
          },
          "metadata": {}
        }
      ]
    },
    {
      "cell_type": "code",
      "source": [
        "plt.figure(figsize=(14, 6))  # Set the figure size\n",
        "\n",
        "# Create subplots for each 'preferred_device'\n",
        "sns.catplot(x='Buy_Ticket', hue='member_in_family', col='preferred_device', data=df, kind='count', palette='pastel', height=6, aspect=0.8)\n",
        "\n",
        "plt.show()"
      ],
      "metadata": {
        "colab": {
          "base_uri": "https://localhost:8080/",
          "height": 624
        },
        "id": "cxBg09_mEfge",
        "outputId": "1d39439d-f150-4b19-f335-00d3dd189bc0"
      },
      "execution_count": null,
      "outputs": [
        {
          "output_type": "display_data",
          "data": {
            "text/plain": [
              "<Figure size 1400x600 with 0 Axes>"
            ]
          },
          "metadata": {}
        },
        {
          "output_type": "display_data",
          "data": {
            "text/plain": [
              "<Figure size 1099.49x600 with 2 Axes>"
            ],
            "image/png": "[encoded data removed]"
          },
          "metadata": {}
        }
      ]
    },
    {
      "cell_type": "markdown",
      "source": [
        "# LOGISTIC REGRESSION"
      ],
      "metadata": {
        "id": "TVjOEkqKJosR"
      }
    },
    {
      "cell_type": "code",
      "source": [
        "df['preferred_device'] = df['preferred_device'].str.strip().str.lower()\n",
        "mdf = df[df['preferred_device'] == 'mobile']\n",
        "ldf = df[df['preferred_device'] == 'laptop']"
      ],
      "metadata": {
        "id": "BVj7tzcQJuqA"
      },
      "execution_count": null,
      "outputs": []
    },
    {
      "cell_type": "code",
      "source": [
        "import numpy as np\n",
        "import pandas as pd\n",
        "import matplotlib.pyplot as plt\n",
        "import seaborn as sns\n",
        "from sklearn.model_selection import train_test_split,GridSearchCV\n",
        "from sklearn.linear_model import LogisticRegression\n",
        "from sklearn import metrics\n",
        "from sklearn.metrics import roc_auc_score,roc_curve,classification_report,confusion_matrix\n",
        "from sklearn.metrics import accuracy_score, classification_report"
      ],
      "metadata": {
        "id": "KsB89VZLKUgH"
      },
      "execution_count": null,
      "outputs": []
    },
    {
      "cell_type": "markdown",
      "source": [
        "#LOGISTIC REGRESSION - MOBILE"
      ],
      "metadata": {
        "id": "iZ3ePnxSSewE"
      }
    },
    {
      "cell_type": "code",
      "source": [
        "X = mdf.drop(['Buy_Ticket', 'preferred_device'], axis=1)\n",
        "y = mdf['Buy_Ticket']"
      ],
      "metadata": {
        "id": "fHdQ4996KUc_"
      },
      "execution_count": null,
      "outputs": []
    },
    {
      "cell_type": "code",
      "source": [
        "X_train, X_test, y_train, y_test = train_test_split(X, y, test_size=0.30 , random_state=1, stratify= mdf['Buy_Ticket'])"
      ],
      "metadata": {
        "id": "6b4LTqeZKUZo"
      },
      "execution_count": null,
      "outputs": []
    },
    {
      "cell_type": "code",
      "source": [
        "from sklearn.impute import SimpleImputer\n",
        "from sklearn.linear_model import LogisticRegression\n",
        "from sklearn.metrics import accuracy_score, classification_report\n",
        "\n",
        "# Assuming 'X' is your feature matrix and 'y' is your target variable\n",
        "X_train, X_test, y_train, y_test = train_test_split(X, y, test_size=0.30, random_state=1, stratify=mdf['Buy_Ticket'])\n",
        "\n",
        "# Identify categorical and numerical columns\n",
        "categorical_columns = ['yearly_avg_checkins', 'member_in_family', 'preferred_location_type', 'following_company_page', 'working_flag', 'Adult_flag']\n",
        "numerical_columns = ['yearly_avg_Views', 'total_likes_checkin', 'yearly_avg_Comments', 'total_likes_user_outofstation', 'week_since_checkin', 'monthly_avg_comments', 'travelling_network_rating', 'daily_avg_mins_travel_page']\n",
        "\n",
        "# Create a column transformer for preprocessing\n",
        "preprocessor = ColumnTransformer(\n",
        "    transformers=[\n",
        "        ('num', SimpleImputer(strategy='mean'), numerical_columns),  # Use 'mean' or 'median' based on your preference\n",
        "        ('cat', OneHotEncoder(), categorical_columns)\n",
        "    ],\n",
        "    remainder='passthrough'\n",
        ")\n",
        "\n",
        "# Create a pipeline with the preprocessor and logistic regression model\n",
        "model = Pipeline([\n",
        "    ('preprocessor', preprocessor),\n",
        "    ('classifier', LogisticRegression(\n",
        "        solver='newton-cg',\n",
        "        max_iter=100,\n",
        "        penalty='none',\n",
        "        verbose=True,\n",
        "        n_jobs=2\n",
        "    ))\n",
        "])\n",
        "\n",
        "# Train the model\n",
        "model.fit(X_train, y_train)\n",
        "\n",
        "# Predict on the test set\n",
        "y_pred = model.predict(X_test)\n",
        "\n",
        "# Evaluate the model\n",
        "accuracy = accuracy_score(y_test, y_pred)\n",
        "classification_rep = classification_report(y_test, y_pred)\n",
        "\n",
        "# Display the results\n",
        "print(f\"Accuracy: {accuracy:.4f}\")\n",
        "print(\"Classification Report:\\n\", classification_rep)\n"
      ],
      "metadata": {
        "colab": {
          "base_uri": "https://localhost:8080/"
        },
        "id": "XhHvmkWvKUVs",
        "outputId": "1142e37c-39a5-44b8-a269-740378cfe59f"
      },
      "execution_count": null,
      "outputs": [
        {
          "output_type": "stream",
          "name": "stderr",
          "text": [
            "[Parallel(n_jobs=2)]: Using backend LokyBackend with 2 concurrent workers.\n"
          ]
        },
        {
          "output_type": "stream",
          "name": "stdout",
          "text": [
            "Accuracy: 0.8708\n",
            "Classification Report:\n",
            "               precision    recall  f1-score   support\n",
            "\n",
            "          No       0.88      0.98      0.93      2710\n",
            "         Yes       0.70      0.26      0.38       486\n",
            "\n",
            "    accuracy                           0.87      3196\n",
            "   macro avg       0.79      0.62      0.65      3196\n",
            "weighted avg       0.85      0.87      0.84      3196\n",
            "\n"
          ]
        }
      ]
    },
    {
      "cell_type": "code",
      "source": [
        "from sklearn.model_selection import GridSearchCV\n",
        "\n",
        "# Define the parameter grid to search\n",
        "param_grid = {\n",
        "    'classifier__C': [0.001, 0.01, 0.1, 1, 10, 100],  # Regularization parameter\n",
        "    'classifier__penalty': ['l1', 'l2'],  # Penalty term (L1 or L2)\n",
        "}\n",
        "\n",
        "# Create a new logistic regression model\n",
        "logreg_model = LogisticRegression(\n",
        "    solver='newton-cg',\n",
        "    max_iter=100,\n",
        "    penalty='none',\n",
        "    verbose=True,\n",
        "    n_jobs=2\n",
        ")\n",
        "\n",
        "# Update your pipeline with the classifier name\n",
        "model = Pipeline([\n",
        "    ('preprocessor', preprocessor),\n",
        "    ('classifier', logreg_model)  # Use the instantiated model\n",
        "])\n",
        "\n",
        "# Create GridSearchCV\n",
        "grid_search = GridSearchCV(model, param_grid, cv=3, scoring='accuracy', n_jobs=-1)\n",
        "\n",
        "# Fit the model\n",
        "grid_search.fit(X_train, y_train)\n",
        "\n",
        "# Print the best hyperparameters\n",
        "print(\"Best Hyperparameters:\", grid_search.best_params_)\n",
        "\n",
        "# Print the training set classification report\n",
        "y_train_pred = grid_search.predict(X_train)\n",
        "print(\"Training Set Classification Report:\")\n",
        "print(classification_report(y_train, y_train_pred))\n",
        "\n",
        "# Print the test set classification report\n",
        "y_test_pred = grid_search.predict(X_test)\n",
        "print(\"\\nTest Set Classification Report:\")\n",
        "print(classification_report(y_test, y_test_pred))\n"
      ],
      "metadata": {
        "colab": {
          "base_uri": "https://localhost:8080/"
        },
        "id": "EYoH3hvq1yqa",
        "outputId": "072b9eb8-3b45-4572-9755-4d19d5c50f42"
      },
      "execution_count": null,
      "outputs": [
        {
          "output_type": "stream",
          "name": "stderr",
          "text": [
            "[Parallel(n_jobs=2)]: Using backend LokyBackend with 2 concurrent workers.\n"
          ]
        },
        {
          "output_type": "stream",
          "name": "stdout",
          "text": [
            "Best Hyperparameters: {'classifier__C': 1, 'classifier__penalty': 'l2'}\n",
            "Training Set Classification Report:\n",
            "              precision    recall  f1-score   support\n",
            "\n",
            "          No       0.88      0.98      0.93      6322\n",
            "         Yes       0.73      0.28      0.41      1134\n",
            "\n",
            "    accuracy                           0.88      7456\n",
            "   macro avg       0.81      0.63      0.67      7456\n",
            "weighted avg       0.86      0.88      0.85      7456\n",
            "\n",
            "\n",
            "Test Set Classification Report:\n",
            "              precision    recall  f1-score   support\n",
            "\n",
            "          No       0.88      0.98      0.93      2710\n",
            "         Yes       0.70      0.26      0.37       486\n",
            "\n",
            "    accuracy                           0.87      3196\n",
            "   macro avg       0.79      0.62      0.65      3196\n",
            "weighted avg       0.85      0.87      0.84      3196\n",
            "\n"
          ]
        }
      ]
    },
    {
      "cell_type": "code",
      "source": [
        "# Access the coefficients (feature importance)\n",
        "coefficients = model.named_steps['classifier'].coef_[0]\n",
        "\n",
        "# Access the feature names after preprocessing\n",
        "feature_names = preprocessor.get_feature_names_out()\n",
        "\n",
        "# Create a DataFrame to display coefficients with their corresponding feature names\n",
        "import pandas as pd\n",
        "feature_importance_df = pd.DataFrame({'Feature': feature_names, 'Coefficient': coefficients})\n",
        "\n",
        "# Print the top 10 positive coefficients\n",
        "top_positive_coefficients = feature_importance_df.nlargest(25, 'Coefficient')\n",
        "print(top_positive_coefficients)"
      ],
      "metadata": {
        "colab": {
          "base_uri": "https://localhost:8080/"
        },
        "id": "5VGi-WVyd8gW",
        "outputId": "2a6aaeb4-44be-40ad-f8b5-b31fef42c3db"
      },
      "execution_count": null,
      "outputs": [
        {
          "output_type": "stream",
          "name": "stdout",
          "text": [
            "                            Feature  Coefficient\n",
            "52   cat__preferred_location_type_9     2.212569\n",
            "24      cat__yearly_avg_checkins_24     1.228622\n",
            "22      cat__yearly_avg_checkins_22     1.104896\n",
            "59    cat__following_company_page_1     1.017080\n",
            "27      cat__yearly_avg_checkins_27     0.887853\n",
            "62              cat__Adult_flag_0.0     0.810733\n",
            "12      cat__yearly_avg_checkins_13     0.798247\n",
            "16      cat__yearly_avg_checkins_17     0.603310\n",
            "14      cat__yearly_avg_checkins_15     0.583912\n",
            "49   cat__preferred_location_type_6     0.464106\n",
            "11      cat__yearly_avg_checkins_12     0.429907\n",
            "40          cat__member_in_family_3     0.404893\n",
            "50   cat__preferred_location_type_7     0.379217\n",
            "48   cat__preferred_location_type_5     0.367570\n",
            "53  cat__preferred_location_type_10     0.311049\n",
            "56  cat__preferred_location_type_13     0.308425\n",
            "41          cat__member_in_family_4     0.305999\n",
            "29      cat__yearly_avg_checkins_29     0.299339\n",
            "39          cat__member_in_family_2     0.280770\n",
            "37          cat__member_in_family_1     0.263278\n",
            "23      cat__yearly_avg_checkins_23     0.237440\n",
            "25      cat__yearly_avg_checkins_25     0.232907\n",
            "36       cat__yearly_avg_checkins_9     0.221823\n",
            "61              cat__working_flag_1     0.184244\n",
            "60              cat__working_flag_0     0.176413\n"
          ]
        }
      ]
    },
    {
      "cell_type": "code",
      "source": [
        "y_pred_test = model.predict(X_test)\n",
        "\n",
        "# Evaluate the model on the test set\n",
        "accuracy_test = accuracy_score(y_test, y_pred_test)\n",
        "classification_rep_test = classification_report(y_test, y_pred_test)\n",
        "\n",
        "# Predict on the training set\n",
        "y_pred_train = model.predict(X_train)\n",
        "\n",
        "# Evaluate the model on the training set\n",
        "accuracy_train = accuracy_score(y_train, y_pred_train)\n",
        "classification_rep_train = classification_report(y_train, y_pred_train)\n",
        "\n",
        "# Display the results\n",
        "print(\"Test Set:\")\n",
        "print(f\"Accuracy: {accuracy_test:.4f}\")\n",
        "print(\"Classification Report:\\n\", classification_rep_test)\n",
        "\n",
        "print(\"\\nTraining Set:\")\n",
        "print(f\"Accuracy: {accuracy_train:.4f}\")\n",
        "print(\"Classification Report:\\n\", classification_rep_train)"
      ],
      "metadata": {
        "colab": {
          "base_uri": "https://localhost:8080/"
        },
        "id": "UKsiorqB-z09",
        "outputId": "1233c53b-b951-4b52-8151-78a4170fcabe"
      },
      "execution_count": null,
      "outputs": [
        {
          "output_type": "stream",
          "name": "stdout",
          "text": [
            "Test Set:\n",
            "Accuracy: 0.8708\n",
            "Classification Report:\n",
            "               precision    recall  f1-score   support\n",
            "\n",
            "          No       0.88      0.98      0.93      2710\n",
            "         Yes       0.70      0.26      0.38       486\n",
            "\n",
            "    accuracy                           0.87      3196\n",
            "   macro avg       0.79      0.62      0.65      3196\n",
            "weighted avg       0.85      0.87      0.84      3196\n",
            "\n",
            "\n",
            "Training Set:\n",
            "Accuracy: 0.8754\n",
            "Classification Report:\n",
            "               precision    recall  f1-score   support\n",
            "\n",
            "          No       0.88      0.98      0.93      6322\n",
            "         Yes       0.73      0.29      0.41      1134\n",
            "\n",
            "    accuracy                           0.88      7456\n",
            "   macro avg       0.81      0.63      0.67      7456\n",
            "weighted avg       0.86      0.88      0.85      7456\n",
            "\n"
          ]
        }
      ]
    },
    {
      "cell_type": "code",
      "source": [
        "y_pred_train = model.predict(X_train)\n",
        "\n",
        "# Create the confusion matrix\n",
        "cm = metrics.confusion_matrix(y_train, y_pred_train, sample_weight=np.ones(len(y_train)))\n",
        "\n",
        "# Plot the confusion matrix\n",
        "plt.clf()\n",
        "plt.imshow(cm, interpolation='nearest', cmap=plt.cm.Wistia)\n",
        "classNames = ['0', '1']\n",
        "plt.title('Confusion Matrix - Train Data')\n",
        "plt.ylabel('Actual label')\n",
        "plt.xlabel('Predicted label')\n",
        "tick_marks = np.arange(len(classNames))\n",
        "plt.xticks(tick_marks, classNames, rotation=45)\n",
        "plt.yticks(tick_marks, classNames)\n",
        "\n",
        "for i in range(2):\n",
        "    for j in range(2):\n",
        "        plt.text(j, i, f\"{classNames[i]} = {cm[i, j]}\")\n",
        "\n",
        "plt.show()"
      ],
      "metadata": {
        "colab": {
          "base_uri": "https://localhost:8080/",
          "height": 474
        },
        "id": "6g5Go1tMMgoj",
        "outputId": "6a44ae83-e44a-420f-bf78-bf1148d34449"
      },
      "execution_count": null,
      "outputs": [
        {
          "output_type": "display_data",
          "data": {
            "text/plain": [
              "<Figure size 640x480 with 1 Axes>"
            ],
            "image/png": "[encoded data removed]"
          },
          "metadata": {}
        }
      ]
    },
    {
      "cell_type": "code",
      "source": [
        "cm = metrics.confusion_matrix(y_test, y_pred)\n",
        "plt.clf()\n",
        "plt.imshow(cm, interpolation='nearest', cmap=plt.cm.Wistia)\n",
        "classNames = ['0', '1']\n",
        "plt.title('Confusion Matrix - Test Data')\n",
        "plt.ylabel('Actual label')\n",
        "plt.xlabel('Predicted label')\n",
        "tick_marks = np.arange(len(classNames))\n",
        "plt.xticks(tick_marks, classNames, rotation=45)\n",
        "plt.yticks(tick_marks, classNames)\n",
        "s = [['G1', 'G2'], ['G1','G2']]\n",
        "\n",
        "for i in range(2):\n",
        "    for j in range(2):\n",
        "        plt.text(j,i, str(s[i][j])+\" = \"+str(cm[i][j]))\n",
        "plt.show()"
      ],
      "metadata": {
        "colab": {
          "base_uri": "https://localhost:8080/",
          "height": 474
        },
        "id": "h5x0Q5uMgC6Z",
        "outputId": "4cd411ad-9af8-4e3d-c04e-2a82447a3cc8"
      },
      "execution_count": null,
      "outputs": [
        {
          "output_type": "display_data",
          "data": {
            "text/plain": [
              "<Figure size 640x480 with 1 Axes>"
            ],
            "image/png": "[encoded data removed]"
          },
          "metadata": {}
        }
      ]
    },
    {
      "cell_type": "code",
      "source": [
        "from sklearn.metrics import roc_auc_score, roc_curve\n",
        "import matplotlib.pyplot as plt\n",
        "\n",
        "# Predict probabilities\n",
        "probs = model.predict_proba(X_train)[:, 1]\n",
        "\n",
        "# Calculate AUC\n",
        "auc = roc_auc_score(y_train, probs)\n",
        "print('AUC: %.3f' % auc)\n",
        "\n",
        "# Calculate ROC curve\n",
        "train_fpr, train_tpr, train_thresholds = roc_curve(y_train, probs, pos_label='Yes')\n",
        "\n",
        "# Plot the ROC curve for the model\n",
        "plt.plot([0, 1], [0, 1], linestyle='--')\n",
        "plt.plot(train_fpr, train_tpr)\n",
        "plt.xlabel('False Positive Rate')\n",
        "plt.ylabel('True Positive Rate')\n",
        "plt.title('ROC Curve')\n",
        "plt.show()"
      ],
      "metadata": {
        "colab": {
          "base_uri": "https://localhost:8080/",
          "height": 489
        },
        "id": "g2KcU9OoMnH2",
        "outputId": "4f511e8d-98b8-4272-a471-777812b7e8ec"
      },
      "execution_count": null,
      "outputs": [
        {
          "output_type": "stream",
          "name": "stdout",
          "text": [
            "AUC: 0.814\n"
          ]
        },
        {
          "output_type": "display_data",
          "data": {
            "text/plain": [
              "<Figure size 640x480 with 1 Axes>"
            ],
            "image/png": "[encoded data removed]"
          },
          "metadata": {}
        }
      ]
    },
    {
      "cell_type": "code",
      "source": [
        "# predict probabilities\n",
        "probs = model.predict_proba(X_test)\n",
        "# keep probabilities for the positive outcome only\n",
        "probs = probs[:, 1]\n",
        "# calculate AUC\n",
        "test_auc = roc_auc_score(y_test, probs)\n",
        "print('AUC: %.3f' % test_auc)  # Fix the variable name here\n",
        "# calculate roc curve\n",
        "test_fpr, test_tpr, test_thresholds = roc_curve(y_test, probs, pos_label='Yes')\n",
        "plt.plot([0, 1], [0, 1], linestyle='--')\n",
        "# plot the roc curve for the model\n",
        "plt.plot(test_fpr, test_tpr);"
      ],
      "metadata": {
        "colab": {
          "base_uri": "https://localhost:8080/",
          "height": 447
        },
        "id": "ekdHHmHXf27g",
        "outputId": "e3109961-c61f-497e-de53-5499feda026a"
      },
      "execution_count": null,
      "outputs": [
        {
          "output_type": "stream",
          "name": "stdout",
          "text": [
            "AUC: 0.787\n"
          ]
        },
        {
          "output_type": "display_data",
          "data": {
            "text/plain": [
              "<Figure size 640x480 with 1 Axes>"
            ],
            "image/png": "[encoded data removed]"
          },
          "metadata": {}
        }
      ]
    },
    {
      "cell_type": "code",
      "source": [
        "from sklearn.preprocessing import OneHotEncoder, LabelEncoder\n",
        "from sklearn.ensemble import RandomForestClassifier\n",
        "from sklearn.compose import ColumnTransformer\n",
        "from sklearn.pipeline import Pipeline\n",
        "from sklearn.model_selection import RandomizedSearchCV\n",
        "\n",
        "# Assuming 'X' is your feature matrix and 'y' is your target variable\n",
        "X_train, X_test, y_train, y_test = train_test_split(X, y, test_size=0.30, random_state=42)\n",
        "\n",
        "# Identify categorical columns\n",
        "categorical_cols = X.select_dtypes(include=['object']).columns\n",
        "\n",
        "# Create transformers for preprocessing\n",
        "categorical_transformer = OneHotEncoder(handle_unknown='ignore')\n",
        "preprocessor = ColumnTransformer(\n",
        "    transformers=[\n",
        "        ('cat', categorical_transformer, categorical_cols)\n",
        "    ],\n",
        "    remainder='passthrough'\n",
        ")\n",
        "\n",
        "# Create the pipeline with preprocessing and the model\n",
        "pipeline = Pipeline(steps=[\n",
        "    ('preprocessor', preprocessor),\n",
        "    ('classifier', RandomForestClassifier(random_state=42))\n",
        "])\n",
        "\n",
        "# Define the parameter grid\n",
        "param_dist = {\n",
        "    'classifier__n_estimators': [50, 100, 200],\n",
        "    'classifier__max_depth': [None, 10, 20],\n",
        "    'classifier__min_samples_split': [2, 5, 10],\n",
        "    'classifier__min_samples_leaf': [1, 2, 4]\n",
        "}\n",
        "\n",
        "random_search = RandomizedSearchCV(estimator=pipeline, param_distributions=param_dist, n_iter=10, cv=5, scoring='accuracy', n_jobs=-1)\n",
        "\n",
        "# Fit the grid search\n",
        "random_search.fit(X_train, y_train)\n",
        "\n",
        "# Print the best parameters\n",
        "print(\"Best Parameters:\", random_search.best_params_)\n",
        "\n",
        "# Evaluate the model with the best parameters on the test set\n",
        "best_model = random_search.best_estimator_\n",
        "y_pred = best_model.predict(X_test)\n",
        "accuracy = accuracy_score(y_test, y_pred)\n",
        "print(\"Accuracy on Test Set:\", accuracy)"
      ],
      "metadata": {
        "colab": {
          "base_uri": "https://localhost:8080/"
        },
        "id": "QnZsTuwHNgqT",
        "outputId": "a648c3aa-2be4-47e4-8b2d-a85dd4fb111d"
      },
      "execution_count": null,
      "outputs": [
        {
          "output_type": "stream",
          "name": "stdout",
          "text": [
            "Best Parameters: {'classifier__n_estimators': 100, 'classifier__min_samples_split': 2, 'classifier__min_samples_leaf': 1, 'classifier__max_depth': 20}\n",
            "Accuracy on Test Set: 0.9765331664580726\n"
          ]
        }
      ]
    },
    {
      "cell_type": "code",
      "source": [
        "classification_rep = classification_report(y_test, y_pred)\n",
        "# Display the results\n",
        "print(f\"Accuracy: {accuracy:.4f}\")\n",
        "print(\"Classification Report:\\n\", classification_rep)"
      ],
      "metadata": {
        "colab": {
          "base_uri": "https://localhost:8080/"
        },
        "id": "xkmw9pmNR4b4",
        "outputId": "9c1b2603-998d-4c49-ee04-a5eda6a5d7be"
      },
      "execution_count": null,
      "outputs": [
        {
          "output_type": "stream",
          "name": "stdout",
          "text": [
            "Accuracy: 0.9765\n",
            "Classification Report:\n",
            "               precision    recall  f1-score   support\n",
            "\n",
            "          No       0.97      1.00      0.99      2743\n",
            "         Yes       1.00      0.84      0.91       453\n",
            "\n",
            "    accuracy                           0.98      3196\n",
            "   macro avg       0.99      0.92      0.95      3196\n",
            "weighted avg       0.98      0.98      0.98      3196\n",
            "\n"
          ]
        }
      ]
    },
    {
      "cell_type": "markdown",
      "source": [
        "#LOGISTIC REGRESSION - LAPTOP"
      ],
      "metadata": {
        "id": "jKENKzbZSpZi"
      }
    },
    {
      "cell_type": "code",
      "source": [
        "X = ldf.drop(['Buy_Ticket', 'preferred_device'], axis=1)\n",
        "y = ldf['Buy_Ticket']"
      ],
      "metadata": {
        "id": "_RPSUeaqSYVt"
      },
      "execution_count": null,
      "outputs": []
    },
    {
      "cell_type": "code",
      "source": [
        "X_train, X_test, y_train, y_test = train_test_split(X, y, test_size=0.30 , random_state=1, stratify= ldf['Buy_Ticket'])"
      ],
      "metadata": {
        "id": "hG5YmwZESw1W"
      },
      "execution_count": null,
      "outputs": []
    },
    {
      "cell_type": "code",
      "source": [
        "from sklearn.impute import SimpleImputer\n",
        "from sklearn.linear_model import LogisticRegression\n",
        "from sklearn.metrics import accuracy_score, classification_report\n",
        "\n",
        "# Assuming 'X' is your feature matrix and 'y' is your target variable\n",
        "X_train, X_test, y_train, y_test = train_test_split(X, y, test_size=0.30, random_state=1, stratify=ldf['Buy_Ticket'])\n",
        "\n",
        "# Identify categorical and numerical columns\n",
        "categorical_columns = ['yearly_avg_checkins', 'member_in_family', 'preferred_location_type', 'following_company_page', 'working_flag', 'Adult_flag']\n",
        "numerical_columns = ['yearly_avg_Views', 'total_likes_checkin', 'yearly_avg_Comments', 'total_likes_user_outofstation', 'week_since_checkin', 'monthly_avg_comments', 'travelling_network_rating', 'daily_avg_mins_travel_page']\n",
        "\n",
        "# Create a column transformer for preprocessing\n",
        "preprocessor = ColumnTransformer(\n",
        "    transformers=[\n",
        "        ('num', SimpleImputer(strategy='mean'), numerical_columns),  # Use 'mean' or 'median' based on your preference\n",
        "        ('cat', OneHotEncoder(), categorical_columns)\n",
        "    ],\n",
        "    remainder='passthrough'\n",
        ")\n",
        "\n",
        "# Create a pipeline with the preprocessor and logistic regression model\n",
        "model = Pipeline([\n",
        "    ('preprocessor', preprocessor),\n",
        "    ('classifier', LogisticRegression(\n",
        "        solver='newton-cg',\n",
        "        max_iter=100,\n",
        "        penalty='none',\n",
        "        verbose=True,\n",
        "        n_jobs=2\n",
        "    ))\n",
        "])\n",
        "\n",
        "# Train the model\n",
        "model.fit(X_train, y_train)\n",
        "\n",
        "# Predict on the test set\n",
        "y_pred = model.predict(X_test)\n",
        "\n",
        "# Evaluate the model\n",
        "accuracy = accuracy_score(y_test, y_pred)\n",
        "classification_rep = classification_report(y_test, y_pred)\n",
        "\n",
        "# Display the results\n",
        "print(f\"Accuracy: {accuracy:.4f}\")\n",
        "print(\"Classification Report:\\n\", classification_rep)"
      ],
      "metadata": {
        "colab": {
          "base_uri": "https://localhost:8080/"
        },
        "id": "G4szimaTSwx7",
        "outputId": "5bdb1e6c-2056-450a-bce1-53ebb1286395"
      },
      "execution_count": null,
      "outputs": [
        {
          "output_type": "stream",
          "name": "stderr",
          "text": [
            "[Parallel(n_jobs=2)]: Using backend LokyBackend with 2 concurrent workers.\n"
          ]
        },
        {
          "output_type": "stream",
          "name": "stdout",
          "text": [
            "Accuracy: 0.8589\n",
            "Classification Report:\n",
            "               precision    recall  f1-score   support\n",
            "\n",
            "          No       0.87      0.95      0.91       250\n",
            "         Yes       0.79      0.59      0.68        83\n",
            "\n",
            "    accuracy                           0.86       333\n",
            "   macro avg       0.83      0.77      0.79       333\n",
            "weighted avg       0.85      0.86      0.85       333\n",
            "\n"
          ]
        }
      ]
    },
    {
      "cell_type": "code",
      "source": [
        "from sklearn.model_selection import GridSearchCV\n",
        "\n",
        "# Define the parameter grid to search\n",
        "param_grid = {\n",
        "    'classifier__C': [0.001, 0.01, 0.1, 1, 10, 100],  # Regularization parameter\n",
        "    'classifier__penalty': ['l1', 'l2'],  # Penalty term (L1 or L2)\n",
        "}\n",
        "\n",
        "# Create a new logistic regression model\n",
        "logreg_model = LogisticRegression(\n",
        "    solver='newton-cg',\n",
        "    max_iter=100,\n",
        "    penalty='none',\n",
        "    verbose=True,\n",
        "    n_jobs=2\n",
        ")\n",
        "\n",
        "# Update your pipeline with the classifier name\n",
        "model = Pipeline([\n",
        "    ('preprocessor', preprocessor),\n",
        "    ('classifier', logreg_model)  # Use the instantiated model\n",
        "])\n",
        "\n",
        "# Create GridSearchCV\n",
        "grid_search = GridSearchCV(model, param_grid, cv=3, scoring='accuracy', n_jobs=-1)\n",
        "\n",
        "# Fit the model\n",
        "grid_search.fit(X_train, y_train)\n",
        "\n",
        "# Print the best hyperparameters\n",
        "print(\"Best Hyperparameters:\", grid_search.best_params_)\n",
        "\n",
        "# Print the training set classification report\n",
        "y_train_pred = grid_search.predict(X_train)\n",
        "print(\"Training Set Classification Report:\")\n",
        "print(classification_report(y_train, y_train_pred))\n",
        "\n",
        "# Print the test set classification report\n",
        "y_test_pred = grid_search.predict(X_test)\n",
        "print(\"\\nTest Set Classification Report:\")\n",
        "print(classification_report(y_test, y_test_pred))"
      ],
      "metadata": {
        "colab": {
          "base_uri": "https://localhost:8080/"
        },
        "id": "fSpfyEvj2k_k",
        "outputId": "bcaa3810-e33b-4a12-a14e-ff5224f294ec"
      },
      "execution_count": null,
      "outputs": [
        {
          "output_type": "stream",
          "name": "stderr",
          "text": [
            "[Parallel(n_jobs=2)]: Using backend LokyBackend with 2 concurrent workers.\n"
          ]
        },
        {
          "output_type": "stream",
          "name": "stdout",
          "text": [
            "Best Hyperparameters: {'classifier__C': 1, 'classifier__penalty': 'l2'}\n",
            "Training Set Classification Report:\n",
            "              precision    recall  f1-score   support\n",
            "\n",
            "          No       0.87      0.97      0.91       582\n",
            "         Yes       0.85      0.55      0.67       193\n",
            "\n",
            "    accuracy                           0.86       775\n",
            "   macro avg       0.86      0.76      0.79       775\n",
            "weighted avg       0.86      0.86      0.85       775\n",
            "\n",
            "\n",
            "Test Set Classification Report:\n",
            "              precision    recall  f1-score   support\n",
            "\n",
            "          No       0.86      0.97      0.91       250\n",
            "         Yes       0.84      0.52      0.64        83\n",
            "\n",
            "    accuracy                           0.86       333\n",
            "   macro avg       0.85      0.74      0.78       333\n",
            "weighted avg       0.85      0.86      0.84       333\n",
            "\n"
          ]
        }
      ]
    },
    {
      "cell_type": "code",
      "source": [
        "y_pred_test = model.predict(X_test)\n",
        "\n",
        "# Evaluate the model on the test set\n",
        "accuracy_test = accuracy_score(y_test, y_pred_test)\n",
        "classification_rep_test = classification_report(y_test, y_pred_test)\n",
        "\n",
        "# Predict on the training set\n",
        "y_pred_train = model.predict(X_train)\n",
        "\n",
        "# Evaluate the model on the training set\n",
        "accuracy_train = accuracy_score(y_train, y_pred_train)\n",
        "classification_rep_train = classification_report(y_train, y_pred_train)\n",
        "\n",
        "# Display the results\n",
        "print(\"Test Set:\")\n",
        "print(f\"Accuracy: {accuracy_test:.4f}\")\n",
        "print(\"Classification Report:\\n\", classification_rep_test)\n",
        "\n",
        "print(\"\\nTraining Set:\")\n",
        "print(f\"Accuracy: {accuracy_train:.4f}\")\n",
        "print(\"Classification Report:\\n\", classification_rep_train)"
      ],
      "metadata": {
        "colab": {
          "base_uri": "https://localhost:8080/"
        },
        "id": "i76eg3yd_hla",
        "outputId": "891559c2-8e7f-407d-b735-2dc4584a9d3b"
      },
      "execution_count": null,
      "outputs": [
        {
          "output_type": "stream",
          "name": "stdout",
          "text": [
            "Test Set:\n",
            "Accuracy: 0.8589\n",
            "Classification Report:\n",
            "               precision    recall  f1-score   support\n",
            "\n",
            "          No       0.87      0.95      0.91       250\n",
            "         Yes       0.79      0.59      0.68        83\n",
            "\n",
            "    accuracy                           0.86       333\n",
            "   macro avg       0.83      0.77      0.79       333\n",
            "weighted avg       0.85      0.86      0.85       333\n",
            "\n",
            "\n",
            "Training Set:\n",
            "Accuracy: 0.8606\n",
            "Classification Report:\n",
            "               precision    recall  f1-score   support\n",
            "\n",
            "          No       0.87      0.96      0.91       582\n",
            "         Yes       0.82      0.56      0.67       193\n",
            "\n",
            "    accuracy                           0.86       775\n",
            "   macro avg       0.84      0.76      0.79       775\n",
            "weighted avg       0.86      0.86      0.85       775\n",
            "\n"
          ]
        }
      ]
    },
    {
      "cell_type": "code",
      "source": [
        "y_pred_train = model.predict(X_train)\n",
        "\n",
        "# Create the confusion matrix\n",
        "cm = metrics.confusion_matrix(y_train, y_pred_train, sample_weight=np.ones(len(y_train)))\n",
        "\n",
        "# Plot the confusion matrix\n",
        "plt.clf()\n",
        "plt.imshow(cm, interpolation='nearest', cmap=plt.cm.Wistia)\n",
        "classNames = ['0', '1']\n",
        "plt.title('Confusion Matrix - Train Data')\n",
        "plt.ylabel('Actual label')\n",
        "plt.xlabel('Predicted label')\n",
        "tick_marks = np.arange(len(classNames))\n",
        "plt.xticks(tick_marks, classNames, rotation=45)\n",
        "plt.yticks(tick_marks, classNames)\n",
        "\n",
        "for i in range(2):\n",
        "    for j in range(2):\n",
        "        plt.text(j, i, f\"{classNames[i]} = {cm[i, j]}\")\n",
        "\n",
        "plt.show()"
      ],
      "metadata": {
        "colab": {
          "base_uri": "https://localhost:8080/",
          "height": 474
        },
        "id": "sLot60AbSwuz",
        "outputId": "18bb0b1e-87aa-48b8-f666-993fddfcdb1f"
      },
      "execution_count": null,
      "outputs": [
        {
          "output_type": "display_data",
          "data": {
            "text/plain": [
              "<Figure size 640x480 with 1 Axes>"
            ],
            "image/png": "[encoded data removed]"
          },
          "metadata": {}
        }
      ]
    },
    {
      "cell_type": "code",
      "source": [
        "cm = metrics.confusion_matrix(y_test, y_pred)\n",
        "plt.clf()\n",
        "plt.imshow(cm, interpolation='nearest', cmap=plt.cm.Wistia)\n",
        "classNames = ['0', '1']\n",
        "plt.title('Confusion Matrix - Test Data')\n",
        "plt.ylabel('Actual label')\n",
        "plt.xlabel('Predicted label')\n",
        "tick_marks = np.arange(len(classNames))\n",
        "plt.xticks(tick_marks, classNames, rotation=45)\n",
        "plt.yticks(tick_marks, classNames)\n",
        "s = [['G1', 'G2'], ['G1','G2']]\n",
        "\n",
        "for i in range(2):\n",
        "    for j in range(2):\n",
        "        plt.text(j,i, str(s[i][j])+\" = \"+str(cm[i][j]))\n",
        "plt.show()"
      ],
      "metadata": {
        "colab": {
          "base_uri": "https://localhost:8080/",
          "height": 474
        },
        "id": "VPn5x2dYA-SA",
        "outputId": "508f80fe-9d75-4e8d-b647-63f1368a1226"
      },
      "execution_count": null,
      "outputs": [
        {
          "output_type": "display_data",
          "data": {
            "text/plain": [
              "<Figure size 640x480 with 1 Axes>"
            ],
            "image/png": "[encoded data removed]"
          },
          "metadata": {}
        }
      ]
    },
    {
      "cell_type": "code",
      "source": [
        "from sklearn.metrics import roc_auc_score, roc_curve\n",
        "import matplotlib.pyplot as plt\n",
        "\n",
        "# Predict probabilities\n",
        "probs = model.predict_proba(X_train)[:, 1]\n",
        "\n",
        "# Calculate AUC\n",
        "auc = roc_auc_score(y_train, probs)\n",
        "print('AUC: %.3f' % auc)\n",
        "\n",
        "# Calculate ROC curve\n",
        "train_fpr, train_tpr, train_thresholds = roc_curve(y_train, probs, pos_label='Yes')\n",
        "\n",
        "# Plot the ROC curve for the model\n",
        "plt.plot([0, 1], [0, 1], linestyle='--')\n",
        "plt.plot(train_fpr, train_tpr)\n",
        "plt.xlabel('False Positive Rate')\n",
        "plt.ylabel('True Positive Rate')\n",
        "plt.title('ROC Curve')\n",
        "plt.show()"
      ],
      "metadata": {
        "colab": {
          "base_uri": "https://localhost:8080/",
          "height": 489
        },
        "id": "uTk1TNbvSwra",
        "outputId": "09a57126-0ebd-4b36-8573-c81ef7be5c27"
      },
      "execution_count": null,
      "outputs": [
        {
          "output_type": "stream",
          "name": "stdout",
          "text": [
            "AUC: 0.895\n"
          ]
        },
        {
          "output_type": "display_data",
          "data": {
            "text/plain": [
              "<Figure size 640x480 with 1 Axes>"
            ],
            "image/png": "[encoded data removed]"
          },
          "metadata": {}
        }
      ]
    },
    {
      "cell_type": "code",
      "source": [
        "# predict probabilities\n",
        "probs = model.predict_proba(X_test)\n",
        "# keep probabilities for the positive outcome only\n",
        "probs = probs[:, 1]\n",
        "# calculate AUC\n",
        "test_auc = roc_auc_score(y_test, probs)\n",
        "print('AUC: %.3f' % test_auc)  # Fix the variable name here\n",
        "# calculate roc curve\n",
        "test_fpr, test_tpr, test_thresholds = roc_curve(y_test, probs, pos_label='Yes')\n",
        "plt.plot([0, 1], [0, 1], linestyle='--')\n",
        "# plot the roc curve for the model\n",
        "plt.plot(test_fpr, test_tpr);"
      ],
      "metadata": {
        "colab": {
          "base_uri": "https://localhost:8080/",
          "height": 447
        },
        "id": "695uTz28BtyD",
        "outputId": "f6943cae-446c-4a89-aa2a-e564a74b4237"
      },
      "execution_count": null,
      "outputs": [
        {
          "output_type": "stream",
          "name": "stdout",
          "text": [
            "AUC: 0.867\n"
          ]
        },
        {
          "output_type": "display_data",
          "data": {
            "text/plain": [
              "<Figure size 640x480 with 1 Axes>"
            ],
            "image/png": "[encoded data removed]"
          },
          "metadata": {}
        }
      ]
    },
    {
      "cell_type": "markdown",
      "source": [
        "# KNN"
      ],
      "metadata": {
        "id": "TxYMVKzZWjHA"
      }
    },
    {
      "cell_type": "code",
      "source": [
        "from sklearn.model_selection import train_test_split\n",
        "from sklearn.neighbors import KNeighborsClassifier\n",
        "NNH = KNeighborsClassifier(n_neighbors= 5 , weights = 'distance' )"
      ],
      "metadata": {
        "id": "U20xcsHsWndp"
      },
      "execution_count": null,
      "outputs": []
    },
    {
      "cell_type": "markdown",
      "source": [
        "#KNN - MOBILE"
      ],
      "metadata": {
        "id": "5Fb1EB-gXAsy"
      }
    },
    {
      "cell_type": "code",
      "source": [
        "knn_df= df"
      ],
      "metadata": {
        "id": "TdeQPQHFXVOM"
      },
      "execution_count": null,
      "outputs": []
    },
    {
      "cell_type": "code",
      "source": [
        "knn_df['preferred_device'] = df['preferred_device'].str.strip().str.lower()\n",
        "knn_mdf = knn_df[knn_df['preferred_device'] == 'mobile']\n",
        "knn_ldf = knn_df[knn_df['preferred_device'] == 'laptop']"
      ],
      "metadata": {
        "id": "lA9xXTKMXdx6"
      },
      "execution_count": null,
      "outputs": []
    },
    {
      "cell_type": "code",
      "source": [
        "X = knn_mdf.drop(['Buy_Ticket', 'preferred_device'], axis=1)\n",
        "y = mdf['Buy_Ticket']"
      ],
      "metadata": {
        "id": "F8yEM7DqW8nU"
      },
      "execution_count": null,
      "outputs": []
    },
    {
      "cell_type": "code",
      "source": [
        "X_train, X_test, y_train, y_test = train_test_split(X, y, test_size=0.30 , random_state=1, stratify= mdf['Buy_Ticket'])"
      ],
      "metadata": {
        "id": "ioItCArNW_1h"
      },
      "execution_count": null,
      "outputs": []
    },
    {
      "cell_type": "code",
      "source": [
        "knn_df['preferred_device'].replace({'Mobile':'0', 'Laptop':'1'}, inplace=True)\n",
        "knn_df['preferred_location_type'].replace({'Financial': 0,'Other': 1,'Medical': 2, 'Beach': 3, 'Game': 4, 'Social media': 5, 'Entertainment': 6,'Tour and Travel': 7, 'Movie': 8, 'OTT': 9, 'Tour  Travel': 10, 'Historical site': 11, 'Big Cities': 12, 'Trekking': 13, 'Hill Stations': 14}, inplace=True)\n",
        "knn_df['following_company_page'].replace({'Yes':'1', 'No':'0'}, inplace=True)\n",
        "knn_df['working_flag'].replace({'Yes':'1', 'No':'0'}, inplace=True)\n",
        "knn_df['Adult_flag'].replace({'Yes':'1', 'No':'0'}, inplace=True)"
      ],
      "metadata": {
        "id": "dhp6FEmOXM_U"
      },
      "execution_count": null,
      "outputs": []
    },
    {
      "cell_type": "code",
      "source": [
        "# Impute categorical variables with mode\n",
        "categorical_columns = knn_mdf.select_dtypes(include='object').columns\n",
        "knn_mdf[categorical_columns] = knn_mdf[categorical_columns].fillna(knn_mdf[categorical_columns].mode().iloc[0])\n",
        "\n",
        "# Impute numerical variables with mean\n",
        "numerical_columns = knn_mdf.select_dtypes(include='number').columns\n",
        "knn_mdf[numerical_columns] = knn_mdf[numerical_columns].fillna(knn_mdf[numerical_columns].mean())"
      ],
      "metadata": {
        "id": "xxuYGCryPzfC"
      },
      "execution_count": null,
      "outputs": []
    },
    {
      "cell_type": "code",
      "source": [
        "from sklearn.model_selection import train_test_split\n",
        "from sklearn.preprocessing import StandardScaler, OneHotEncoder\n",
        "from sklearn.impute import SimpleImputer\n",
        "from sklearn.compose import ColumnTransformer\n",
        "from sklearn.pipeline import Pipeline\n",
        "from sklearn.neighbors import KNeighborsClassifier\n",
        "from sklearn.metrics import accuracy_score, classification_report\n",
        "\n",
        "# Assuming 'X' is your feature matrix and 'y' is your target variable\n",
        "X_train, X_test, y_train, y_test = train_test_split(X, y, test_size=0.30, random_state=1, stratify=mdf['Buy_Ticket'])\n",
        "\n",
        "# Identify categorical and numerical columns\n",
        "categorical_columns = ['yearly_avg_checkins', 'member_in_family', 'preferred_location_type', 'following_company_page', 'working_flag', 'Adult_flag']\n",
        "numerical_columns = ['yearly_avg_Views', 'total_likes_checkin', 'yearly_avg_Comments', 'total_likes_user_outofstation', 'week_since_checkin', 'monthly_avg_comments', 'travelling_network_rating', 'daily_avg_mins_travel_page']\n",
        "\n",
        "# Create a column transformer for preprocessing\n",
        "preprocessor = ColumnTransformer(\n",
        "    transformers=[\n",
        "        ('num', SimpleImputer(strategy='mean'), numerical_columns),\n",
        "        ('cat', OneHotEncoder(), categorical_columns)\n",
        "    ],\n",
        "    remainder='passthrough'\n",
        ")\n",
        "\n",
        "# Create the KNN model with the preprocessing step\n",
        "knn_model = KNeighborsClassifier(n_neighbors=5)\n",
        "model = Pipeline(steps=[('preprocessor', preprocessor),\n",
        "                        ('classifier', knn_model)])\n",
        "\n",
        "# Train the model\n",
        "model.fit(X_train, y_train)\n",
        "\n",
        "# Predict on the test set\n",
        "y_pred_test = model.predict(X_test)\n",
        "\n",
        "# Evaluate the model on the test set\n",
        "accuracy_test = accuracy_score(y_test, y_pred_test)\n",
        "classification_rep_test = classification_report(y_test, y_pred_test)\n",
        "\n",
        "# Predict on the training set\n",
        "y_pred_train = model.predict(X_train)\n",
        "\n",
        "# Evaluate the model on the training set\n",
        "accuracy_train = accuracy_score(y_train, y_pred_train)\n",
        "classification_rep_train = classification_report(y_train, y_pred_train)\n",
        "\n",
        "# Display the results\n",
        "print(\"Test Set:\")\n",
        "print(f\"Accuracy: {accuracy_test:.4f}\")\n",
        "print(\"Classification Report:\\n\", classification_rep_test)\n",
        "\n",
        "print(\"\\nTraining Set:\")\n",
        "print(f\"Accuracy: {accuracy_train:.4f}\")\n",
        "print(\"Classification Report:\\n\", classification_rep_train)\n"
      ],
      "metadata": {
        "colab": {
          "base_uri": "https://localhost:8080/"
        },
        "id": "-3j5rdBAWtp4",
        "outputId": "ea0ea561-e127-47d7-fa37-9c5f22e9d4f7"
      },
      "execution_count": null,
      "outputs": [
        {
          "output_type": "stream",
          "name": "stdout",
          "text": [
            "Test Set:\n",
            "Accuracy: 0.9706\n",
            "Classification Report:\n",
            "               precision    recall  f1-score   support\n",
            "\n",
            "          No       0.98      0.99      0.98      2710\n",
            "         Yes       0.93      0.87      0.90       486\n",
            "\n",
            "    accuracy                           0.97      3196\n",
            "   macro avg       0.95      0.93      0.94      3196\n",
            "weighted avg       0.97      0.97      0.97      3196\n",
            "\n",
            "\n",
            "Training Set:\n",
            "Accuracy: 0.9848\n",
            "Classification Report:\n",
            "               precision    recall  f1-score   support\n",
            "\n",
            "          No       0.99      1.00      0.99      6322\n",
            "         Yes       0.98      0.92      0.95      1134\n",
            "\n",
            "    accuracy                           0.98      7456\n",
            "   macro avg       0.98      0.96      0.97      7456\n",
            "weighted avg       0.98      0.98      0.98      7456\n",
            "\n"
          ]
        }
      ]
    },
    {
      "cell_type": "code",
      "source": [
        "from sklearn.metrics import confusion_matrix\n",
        "\n",
        "# Confusion Matrix for Test Set\n",
        "cm_test = confusion_matrix(y_test, y_pred_test)\n",
        "print(\"\\nConfusion Matrix - Test Set:\")\n",
        "print(cm_test)\n",
        "\n",
        "# Confusion Matrix for Training Set\n",
        "cm_train = confusion_matrix(y_train, y_pred_train)\n",
        "print(\"\\nConfusion Matrix - Training Set:\")\n",
        "print(cm_train)\n"
      ],
      "metadata": {
        "colab": {
          "base_uri": "https://localhost:8080/"
        },
        "id": "DgJqsY0KEfZe",
        "outputId": "e7b6109f-e7b8-403b-c205-c2835057bb99"
      },
      "execution_count": null,
      "outputs": [
        {
          "output_type": "stream",
          "name": "stdout",
          "text": [
            "\n",
            "Confusion Matrix - Test Set:\n",
            "[[2678   32]\n",
            " [  62  424]]\n",
            "\n",
            "Confusion Matrix - Training Set:\n",
            "[[6297   25]\n",
            " [  88 1046]]\n"
          ]
        }
      ]
    },
    {
      "cell_type": "code",
      "source": [
        "# Assuming knn_df is your DataFrame\n",
        "feature_labels = X_test.columns\n",
        "\n",
        "# Print the feature labels\n",
        "print(\"Feature Labels:\", feature_labels)"
      ],
      "metadata": {
        "colab": {
          "base_uri": "https://localhost:8080/"
        },
        "id": "x58DM8dbWafP",
        "outputId": "6764f0d7-0e45-4692-fb97-bbab5cbb59f2"
      },
      "execution_count": null,
      "outputs": [
        {
          "output_type": "stream",
          "name": "stdout",
          "text": [
            "Feature Labels: Index(['yearly_avg_Views', 'total_likes_checkin', 'yearly_avg_checkins',\n",
            "       'member_in_family', 'preferred_location_type', 'yearly_avg_Comments',\n",
            "       'total_likes_user_outofstation', 'week_since_checkin',\n",
            "       'following_company_page', 'monthly_avg_comments', 'working_flag',\n",
            "       'travelling_network_rating', 'Adult_flag',\n",
            "       'daily_avg_mins_travel_page'],\n",
            "      dtype='object')\n"
          ]
        }
      ]
    },
    {
      "cell_type": "code",
      "source": [
        "from sklearn.impute import SimpleImputer\n",
        "from sklearn.neighbors import KNeighborsClassifier\n",
        "from sklearn.pipeline import Pipeline\n",
        "from sklearn.model_selection import train_test_split\n",
        "from sklearn.metrics import accuracy_score, classification_report\n",
        "from sklearn.inspection import permutation_importance\n",
        "# Assuming 'X' is your feature matrix and 'y' is your target variable\n",
        "# Replace 'NaN' with the actual column names in your dataset\n",
        "X_train, X_test, y_train, y_test = train_test_split(X, y, test_size=0.3, random_state=42)\n",
        "\n",
        "# Identify categorical columns\n",
        "categorical_columns = ['yearly_avg_checkins', 'member_in_family', 'preferred_location_type', 'following_company_page', 'working_flag', 'Adult_flag']\n",
        "numerical_columns = ['yearly_avg_Views', 'total_likes_checkin', 'yearly_avg_Comments', 'total_likes_user_outofstation', 'week_since_checkin', 'monthly_avg_comments', 'travelling_network_rating', 'daily_avg_mins_travel_page']\n",
        "\n",
        "# Create a ColumnTransformer to apply SimpleImputer to numerical columns\n",
        "preprocessor = ColumnTransformer(\n",
        "    transformers=[\n",
        "        ('num', SimpleImputer(strategy='mean'), numerical_columns),\n",
        "        ('cat', OneHotEncoder(), categorical_columns)\n",
        "    ],\n",
        "    remainder='passthrough'\n",
        ")\n",
        "\n",
        "# Create a pipeline with preprocessing and KNeighborsClassifier\n",
        "knn_model = Pipeline(steps=[\n",
        "    ('preprocessor', preprocessor),\n",
        "    ('classifier', KNeighborsClassifier(n_neighbors=5))\n",
        "])\n",
        "\n",
        "# Train the model\n",
        "knn_model.fit(X_train, y_train)\n",
        "\n",
        "# Predict on the test set\n",
        "y_pred = knn_model.predict(X_test)\n",
        "\n",
        "# Evaluate the model\n",
        "accuracy = accuracy_score(y_test, y_pred)\n",
        "classification_rep = classification_report(y_test, y_pred)\n",
        "\n",
        "# Display the results\n",
        "print(f\"Accuracy: {accuracy:.4f}\")\n",
        "print(\"Classification Report:\\n\", classification_rep)\n",
        "\n",
        "# Assuming X_test_scaled is your NumPy array\n",
        "X_test_df = pd.DataFrame(X_test, columns= ['yearly_avg_Views', 'total_likes_checkin', 'yearly_avg_checkins',\n",
        "       'member_in_family', 'preferred_location_type', 'yearly_avg_Comments',\n",
        "       'total_likes_user_outofstation', 'week_since_checkin',\n",
        "       'following_company_page', 'monthly_avg_comments', 'working_flag',\n",
        "       'travelling_network_rating', 'Adult_flag',\n",
        "       'daily_avg_mins_travel_page'])  # Replace your_column_names with the actual column names\n",
        "\n",
        "# Calculate permutation feature importance\n",
        "result = permutation_importance(knn_model, X_test_df, y_test, n_repeats=10, random_state=1, n_jobs=-1)\n",
        "\n",
        "# Get feature names\n",
        "feature_names = X_test_df.columns\n",
        "\n",
        "# Check if the lengths match\n",
        "if len(feature_names) == len(result.importances_mean):\n",
        "    # Create a DataFrame to display feature importance with their corresponding feature names\n",
        "    feature_importance_df = pd.DataFrame({'Feature': feature_names, 'Importance': result.importances_mean})\n",
        "\n",
        "    # Sort the DataFrame by the `Importance` column\n",
        "    feature_importance_df = feature_importance_df.sort_values(by='Importance', ascending=False)\n",
        "\n",
        "    # Print feature importance\n",
        "    print(feature_importance_df)"
      ],
      "metadata": {
        "colab": {
          "base_uri": "https://localhost:8080/"
        },
        "id": "1gwm7DcXVwmp",
        "outputId": "8f3b2e0a-d470-4db4-c26e-8504b56a66df"
      },
      "execution_count": null,
      "outputs": [
        {
          "output_type": "stream",
          "name": "stdout",
          "text": [
            "Accuracy: 0.9687\n",
            "Classification Report:\n",
            "               precision    recall  f1-score   support\n",
            "\n",
            "          No       0.97      0.99      0.98      2743\n",
            "         Yes       0.95      0.82      0.88       453\n",
            "\n",
            "    accuracy                           0.97      3196\n",
            "   macro avg       0.96      0.91      0.93      3196\n",
            "weighted avg       0.97      0.97      0.97      3196\n",
            "\n",
            "                          Feature  Importance\n",
            "1             total_likes_checkin    0.192272\n",
            "6   total_likes_user_outofstation    0.189018\n",
            "0                yearly_avg_Views    0.010263\n",
            "5             yearly_avg_Comments    0.002159\n",
            "9            monthly_avg_comments    0.000031\n",
            "13     daily_avg_mins_travel_page    0.000031\n",
            "2             yearly_avg_checkins    0.000000\n",
            "3                member_in_family    0.000000\n",
            "4         preferred_location_type    0.000000\n",
            "7              week_since_checkin    0.000000\n",
            "8          following_company_page    0.000000\n",
            "10                   working_flag    0.000000\n",
            "11      travelling_network_rating    0.000000\n",
            "12                     Adult_flag    0.000000\n"
          ]
        }
      ]
    },
    {
      "cell_type": "code",
      "source": [
        "predicted_labels = model.predict(X_test)\n",
        "model.score(X_test, y_test)"
      ],
      "metadata": {
        "colab": {
          "base_uri": "https://localhost:8080/"
        },
        "id": "S_G7zcYxaL0I",
        "outputId": "d331f9c1-224e-4cc3-cd30-01a495a418e9"
      },
      "execution_count": null,
      "outputs": [
        {
          "output_type": "execute_result",
          "data": {
            "text/plain": [
              "0.9705882352941176"
            ]
          },
          "metadata": {},
          "execution_count": 68
        }
      ]
    },
    {
      "cell_type": "code",
      "source": [
        "from sklearn import metrics\n",
        "\n",
        "print(metrics.confusion_matrix(y_test, predicted_labels))"
      ],
      "metadata": {
        "colab": {
          "base_uri": "https://localhost:8080/"
        },
        "id": "vjdP6RDkabxO",
        "outputId": "549b4d93-c888-40db-9a6a-c62932417942"
      },
      "execution_count": null,
      "outputs": [
        {
          "output_type": "stream",
          "name": "stdout",
          "text": [
            "[[2661   41]\n",
            " [ 143  351]]\n"
          ]
        }
      ]
    },
    {
      "cell_type": "markdown",
      "source": [
        "#KNN - LAPTOP"
      ],
      "metadata": {
        "id": "mIPdapv2ahlA"
      }
    },
    {
      "cell_type": "code",
      "source": [
        "X = knn_ldf.drop(['Buy_Ticket', 'preferred_device'], axis=1)\n",
        "y = knn_ldf['Buy_Ticket']"
      ],
      "metadata": {
        "id": "fEEafCtCakQP"
      },
      "execution_count": null,
      "outputs": []
    },
    {
      "cell_type": "code",
      "source": [
        "X_train, X_test, y_train, y_test = train_test_split(X, y, test_size=0.30 , random_state=1, stratify= knn_ldf['Buy_Ticket'])"
      ],
      "metadata": {
        "id": "ipTSZAXsatGz"
      },
      "execution_count": null,
      "outputs": []
    },
    {
      "cell_type": "code",
      "source": [
        "from sklearn.model_selection import train_test_split\n",
        "from sklearn.preprocessing import StandardScaler, OneHotEncoder\n",
        "from sklearn.impute import SimpleImputer\n",
        "from sklearn.compose import ColumnTransformer\n",
        "from sklearn.pipeline import Pipeline\n",
        "from sklearn.neighbors import KNeighborsClassifier\n",
        "from sklearn.metrics import accuracy_score, classification_report\n",
        "\n",
        "# Assuming 'X' is your feature matrix and 'y' is your target variable\n",
        "X_train, X_test, y_train, y_test = train_test_split(X, y, test_size=0.30, random_state=1, stratify=ldf['Buy_Ticket'])\n",
        "\n",
        "# Identify categorical and numerical columns\n",
        "categorical_columns = ['yearly_avg_checkins', 'member_in_family', 'preferred_location_type', 'following_company_page', 'working_flag', 'Adult_flag']\n",
        "numerical_columns = ['yearly_avg_Views', 'total_likes_checkin', 'yearly_avg_Comments', 'total_likes_user_outofstation', 'week_since_checkin', 'monthly_avg_comments', 'travelling_network_rating', 'daily_avg_mins_travel_page']\n",
        "\n",
        "# Create a column transformer for preprocessing\n",
        "preprocessor = ColumnTransformer(\n",
        "    transformers=[\n",
        "        ('num', SimpleImputer(strategy='mean'), numerical_columns),\n",
        "        ('cat', OneHotEncoder(), categorical_columns)\n",
        "    ],\n",
        "    remainder='passthrough'\n",
        ")\n",
        "\n",
        "# Create the KNN model with the preprocessing step\n",
        "knn_model = KNeighborsClassifier(n_neighbors=5)\n",
        "model = Pipeline(steps=[('preprocessor', preprocessor),\n",
        "                        ('classifier', knn_model)])\n",
        "\n",
        "# Train the model\n",
        "model.fit(X_train, y_train)\n",
        "\n",
        "# Predict on the test set\n",
        "y_pred_test = model.predict(X_test)\n",
        "\n",
        "# Evaluate the model on the test set\n",
        "accuracy_test = accuracy_score(y_test, y_pred_test)\n",
        "classification_rep_test = classification_report(y_test, y_pred_test)\n",
        "\n",
        "# Predict on the training set\n",
        "y_pred_train = model.predict(X_train)\n",
        "\n",
        "# Evaluate the model on the training set\n",
        "accuracy_train = accuracy_score(y_train, y_pred_train)\n",
        "classification_rep_train = classification_report(y_train, y_pred_train)\n",
        "\n",
        "# Display the results\n",
        "print(\"Test Set:\")\n",
        "print(f\"Accuracy: {accuracy_test:.4f}\")\n",
        "print(\"Classification Report:\\n\", classification_rep_test)\n",
        "\n",
        "print(\"\\nTraining Set:\")\n",
        "print(f\"Accuracy: {accuracy_train:.4f}\")\n",
        "print(\"Classification Report:\\n\", classification_rep_train)"
      ],
      "metadata": {
        "colab": {
          "base_uri": "https://localhost:8080/"
        },
        "id": "B4wyQh1fa0IN",
        "outputId": "7daaddb6-e8de-49b7-ef98-92435f1904c7"
      },
      "execution_count": null,
      "outputs": [
        {
          "output_type": "stream",
          "name": "stdout",
          "text": [
            "Test Set:\n",
            "Accuracy: 0.8438\n",
            "Classification Report:\n",
            "               precision    recall  f1-score   support\n",
            "\n",
            "          No       0.87      0.93      0.90       250\n",
            "         Yes       0.73      0.59      0.65        83\n",
            "\n",
            "    accuracy                           0.84       333\n",
            "   macro avg       0.80      0.76      0.78       333\n",
            "weighted avg       0.84      0.84      0.84       333\n",
            "\n",
            "\n",
            "Training Set:\n",
            "Accuracy: 0.9497\n",
            "Classification Report:\n",
            "               precision    recall  f1-score   support\n",
            "\n",
            "          No       0.95      0.98      0.97       582\n",
            "         Yes       0.94      0.85      0.89       193\n",
            "\n",
            "    accuracy                           0.95       775\n",
            "   macro avg       0.95      0.92      0.93       775\n",
            "weighted avg       0.95      0.95      0.95       775\n",
            "\n"
          ]
        }
      ]
    },
    {
      "cell_type": "code",
      "source": [
        "predicted_labels = NNH.predict(X_test)\n",
        "NNH.score(X_test, y_test)"
      ],
      "metadata": {
        "colab": {
          "base_uri": "https://localhost:8080/"
        },
        "id": "5VC6r8V_a0E2",
        "outputId": "3a3cc462-9150-4bcf-e9ca-626d19ab23f7"
      },
      "execution_count": null,
      "outputs": [
        {
          "output_type": "execute_result",
          "data": {
            "text/plain": [
              "0.8588588588588588"
            ]
          },
          "metadata": {},
          "execution_count": 334
        }
      ]
    },
    {
      "cell_type": "code",
      "source": [
        "from sklearn import metrics\n",
        "\n",
        "print(metrics.confusion_matrix(y_test, predicted_labels))"
      ],
      "metadata": {
        "colab": {
          "base_uri": "https://localhost:8080/"
        },
        "id": "JEpDn4TVaz-k",
        "outputId": "5a19b2df-61ac-4bdc-f524-611605066baa"
      },
      "execution_count": null,
      "outputs": [
        {
          "output_type": "stream",
          "name": "stdout",
          "text": [
            "[[229   9]\n",
            " [ 38  57]]\n"
          ]
        }
      ]
    },
    {
      "cell_type": "markdown",
      "source": [
        "# DECISION TREE - MOBILE"
      ],
      "metadata": {
        "id": "ISi7v9pvHegu"
      }
    },
    {
      "cell_type": "code",
      "source": [
        "from sklearn.model_selection import train_test_split\n",
        "from sklearn.tree import DecisionTreeClassifier\n",
        "from sklearn.metrics import accuracy_score, classification_report\n",
        "from sklearn.impute import SimpleImputer\n",
        "import pandas as pd\n",
        "\n",
        "# Assuming 'X' is your feature matrix and 'y' is your target variable\n",
        "# Replace 'NaN' with the actual column names in your dataset\n",
        "X_train, X_test, y_train, y_test = train_test_split(X, y, test_size=0.3, random_state=42)\n",
        "\n",
        "# Create a SimpleImputer to fill missing values with the mean (you can adjust strategy as needed)\n",
        "imputer = SimpleImputer(strategy='mean')\n",
        "\n",
        "# Fit the imputer on the training set and transform both training and testing sets\n",
        "X_train_imputed = imputer.fit_transform(X_train)\n",
        "X_test_imputed = imputer.transform(X_test)\n",
        "\n",
        "# Create a decision tree classifier\n",
        "tree_model = DecisionTreeClassifier(random_state=42)\n",
        "\n",
        "# Train the model on the training set\n",
        "tree_model.fit(X_train_imputed, y_train)\n",
        "\n",
        "# Make predictions on the testing set\n",
        "y_pred_test = tree_model.predict(X_test_imputed)\n",
        "\n",
        "# Evaluate the model on the testing set\n",
        "accuracy_test = accuracy_score(y_test, y_pred_test)\n",
        "classification_rep_test = classification_report(y_test, y_pred_test)\n",
        "\n",
        "# Make predictions on the training set\n",
        "y_pred_train = tree_model.predict(X_train_imputed)\n",
        "\n",
        "# Evaluate the model on the training set\n",
        "accuracy_train = accuracy_score(y_train, y_pred_train)\n",
        "classification_rep_train = classification_report(y_train, y_pred_train)\n",
        "\n",
        "# Print the results\n",
        "print(\"Testing Set:\")\n",
        "print(\"Accuracy:\", accuracy_test)\n",
        "print(\"Classification Report:\\n\", classification_rep_test)\n",
        "\n",
        "print(\"\\nTraining Set:\")\n",
        "print(\"Accuracy:\", accuracy_train)\n",
        "print(\"Classification Report:\\n\", classification_rep_train)\n",
        "\n",
        "\n"
      ],
      "metadata": {
        "colab": {
          "base_uri": "https://localhost:8080/"
        },
        "id": "TmD8yaYfHeKR",
        "outputId": "ca13ece2-8314-414f-a47d-de418a646263"
      },
      "execution_count": null,
      "outputs": [
        {
          "output_type": "stream",
          "name": "stdout",
          "text": [
            "Testing Set:\n",
            "Accuracy: 0.97090112640801\n",
            "Classification Report:\n",
            "               precision    recall  f1-score   support\n",
            "\n",
            "          No       0.98      0.98      0.98      2743\n",
            "         Yes       0.90      0.89      0.90       453\n",
            "\n",
            "    accuracy                           0.97      3196\n",
            "   macro avg       0.94      0.94      0.94      3196\n",
            "weighted avg       0.97      0.97      0.97      3196\n",
            "\n",
            "\n",
            "Training Set:\n",
            "Accuracy: 1.0\n",
            "Classification Report:\n",
            "               precision    recall  f1-score   support\n",
            "\n",
            "          No       1.00      1.00      1.00      6289\n",
            "         Yes       1.00      1.00      1.00      1167\n",
            "\n",
            "    accuracy                           1.00      7456\n",
            "   macro avg       1.00      1.00      1.00      7456\n",
            "weighted avg       1.00      1.00      1.00      7456\n",
            "\n"
          ]
        }
      ]
    },
    {
      "cell_type": "markdown",
      "source": [
        "#DECISION TREE - LAPTOP"
      ],
      "metadata": {
        "id": "CYtKcIeMaty3"
      }
    },
    {
      "cell_type": "code",
      "source": [
        "from sklearn.model_selection import train_test_split\n",
        "from sklearn.tree import DecisionTreeClassifier\n",
        "from sklearn.metrics import accuracy_score, classification_report\n",
        "from sklearn.impute import SimpleImputer\n",
        "import pandas as pd\n",
        "\n",
        "# Assuming 'X' is your feature matrix and 'y' is your target variable\n",
        "# Replace 'NaN' with the actual column names in your dataset\n",
        "X_train, X_test, y_train, y_test = train_test_split(X, y, test_size=0.3, random_state=42)\n",
        "\n",
        "# Create a SimpleImputer to fill missing values with the mean (you can adjust strategy as needed)\n",
        "imputer = SimpleImputer(strategy='mean')\n",
        "\n",
        "# Fit the imputer on the training set and transform both training and testing sets\n",
        "X_train_imputed = imputer.fit_transform(X_train)\n",
        "X_test_imputed = imputer.transform(X_test)\n",
        "\n",
        "# Create a decision tree classifier\n",
        "tree_model = DecisionTreeClassifier(random_state=42)\n",
        "\n",
        "# Train the model on the training set\n",
        "tree_model.fit(X_train_imputed, y_train)\n",
        "\n",
        "# Make predictions on the testing set\n",
        "y_pred_test = tree_model.predict(X_test_imputed)\n",
        "\n",
        "# Evaluate the model on the testing set\n",
        "accuracy_test = accuracy_score(y_test, y_pred_test)\n",
        "classification_rep_test = classification_report(y_test, y_pred_test)\n",
        "\n",
        "# Make predictions on the training set\n",
        "y_pred_train = tree_model.predict(X_train_imputed)\n",
        "\n",
        "# Evaluate the model on the training set\n",
        "accuracy_train = accuracy_score(y_train, y_pred_train)\n",
        "classification_rep_train = classification_report(y_train, y_pred_train)\n",
        "\n",
        "# Print the results\n",
        "print(\"Testing Set:\")\n",
        "print(\"Accuracy:\", accuracy_test)\n",
        "print(\"Classification Report:\\n\", classification_rep_test)\n",
        "\n",
        "print(\"\\nTraining Set:\")\n",
        "print(\"Accuracy:\", accuracy_train)\n",
        "print(\"Classification Report:\\n\", classification_rep_train)"
      ],
      "metadata": {
        "colab": {
          "base_uri": "https://localhost:8080/"
        },
        "id": "_VTe-l90HvSU",
        "outputId": "28e43ba3-3212-454b-eedd-70fd8c488b3b"
      },
      "execution_count": null,
      "outputs": [
        {
          "output_type": "stream",
          "name": "stdout",
          "text": [
            "Testing Set:\n",
            "Accuracy: 0.972972972972973\n",
            "Classification Report:\n",
            "               precision    recall  f1-score   support\n",
            "\n",
            "          No       0.99      0.97      0.98       258\n",
            "         Yes       0.91      0.97      0.94        75\n",
            "\n",
            "    accuracy                           0.97       333\n",
            "   macro avg       0.95      0.97      0.96       333\n",
            "weighted avg       0.97      0.97      0.97       333\n",
            "\n",
            "\n",
            "Training Set:\n",
            "Accuracy: 1.0\n",
            "Classification Report:\n",
            "               precision    recall  f1-score   support\n",
            "\n",
            "          No       1.00      1.00      1.00       574\n",
            "         Yes       1.00      1.00      1.00       201\n",
            "\n",
            "    accuracy                           1.00       775\n",
            "   macro avg       1.00      1.00      1.00       775\n",
            "weighted avg       1.00      1.00      1.00       775\n",
            "\n"
          ]
        }
      ]
    },
    {
      "cell_type": "markdown",
      "source": [
        "#RANDOM FOREST - MOBILE"
      ],
      "metadata": {
        "id": "kJdrMScX8hDg"
      }
    },
    {
      "cell_type": "code",
      "source": [
        "from sklearn.model_selection import train_test_split\n",
        "from sklearn.ensemble import RandomForestClassifier\n",
        "from sklearn.metrics import accuracy_score, classification_report\n",
        "from sklearn.impute import SimpleImputer\n",
        "from sklearn.compose import ColumnTransformer\n",
        "from sklearn.preprocessing import OneHotEncoder\n",
        "import pandas as pd\n",
        "\n",
        "# Assuming 'X' is your feature matrix and 'y' is your target variable\n",
        "# Replace 'NaN' with the actual column names in your dataset\n",
        "X_train, X_test, y_train, y_test = train_test_split(X, y, test_size=0.3, random_state=42)\n",
        "\n",
        "# Identify categorical columns\n",
        "categorical_columns = ['yearly_avg_checkins', 'member_in_family', 'preferred_location_type', 'following_company_page', 'working_flag', 'Adult_flag']\n",
        "numerical_columns = ['yearly_avg_Views', 'total_likes_checkin', 'yearly_avg_Comments', 'total_likes_user_outofstation', 'week_since_checkin', 'monthly_avg_comments', 'travelling_network_rating', 'daily_avg_mins_travel_page']\n",
        "\n",
        "# Create a ColumnTransformer to apply OneHotEncoder to categorical columns\n",
        "preprocessor = ColumnTransformer(\n",
        "    transformers=[\n",
        "        ('cat', OneHotEncoder(), categorical_columns)\n",
        "    ],\n",
        "    remainder='passthrough'\n",
        ")\n",
        "\n",
        "# Create a SimpleImputer to fill missing values with the median\n",
        "imputer = SimpleImputer(strategy='median')\n",
        "\n",
        "# Fit the transformers on the training set and transform both training and testing sets\n",
        "X_train_transformed = preprocessor.fit_transform(X_train)\n",
        "X_train_imputed = imputer.fit_transform(X_train_transformed)\n",
        "\n",
        "X_test_transformed = preprocessor.transform(X_test)\n",
        "X_test_imputed = imputer.transform(X_test_transformed)\n",
        "\n",
        "# Create a RandomForestClassifier\n",
        "rf_model = RandomForestClassifier(n_estimators=100, random_state=42)\n",
        "\n",
        "# Train the model on the training set\n",
        "rf_model.fit(X_train_imputed, y_train)\n",
        "\n",
        "# Make predictions on the testing set\n",
        "y_pred_test = rf_model.predict(X_test_imputed)\n",
        "\n",
        "# Evaluate the model on the testing set\n",
        "accuracy_test = accuracy_score(y_test, y_pred_test)\n",
        "classification_rep_test = classification_report(y_test, y_pred_test)\n",
        "\n",
        "# Make predictions on the training set\n",
        "y_pred_train = rf_model.predict(X_train_imputed)\n",
        "\n",
        "# Evaluate the model on the training set\n",
        "accuracy_train = accuracy_score(y_train, y_pred_train)\n",
        "classification_rep_train = classification_report(y_train, y_pred_train)\n",
        "\n",
        "# Print the results\n",
        "print(\"Testing Set:\")\n",
        "print(\"Accuracy:\", accuracy_test)\n",
        "print(\"Classification Report:\\n\", classification_rep_test)\n",
        "\n",
        "print(\"\\nTraining Set:\")\n",
        "print(\"Accuracy:\", accuracy_train)\n",
        "print(\"Classification Report:\\n\", classification_rep_train)\n"
      ],
      "metadata": {
        "colab": {
          "base_uri": "https://localhost:8080/"
        },
        "id": "_QlKj0gbdMq7",
        "outputId": "01e03b50-c298-497c-c292-9abc1932985f"
      },
      "execution_count": null,
      "outputs": [
        {
          "output_type": "stream",
          "name": "stdout",
          "text": [
            "Testing Set:\n",
            "Accuracy: 0.9809136420525657\n",
            "Classification Report:\n",
            "               precision    recall  f1-score   support\n",
            "\n",
            "          No       0.98      1.00      0.99      2743\n",
            "         Yes       1.00      0.87      0.93       453\n",
            "\n",
            "    accuracy                           0.98      3196\n",
            "   macro avg       0.99      0.93      0.96      3196\n",
            "weighted avg       0.98      0.98      0.98      3196\n",
            "\n",
            "\n",
            "Training Set:\n",
            "Accuracy: 1.0\n",
            "Classification Report:\n",
            "               precision    recall  f1-score   support\n",
            "\n",
            "          No       1.00      1.00      1.00      6289\n",
            "         Yes       1.00      1.00      1.00      1167\n",
            "\n",
            "    accuracy                           1.00      7456\n",
            "   macro avg       1.00      1.00      1.00      7456\n",
            "weighted avg       1.00      1.00      1.00      7456\n",
            "\n"
          ]
        }
      ]
    },
    {
      "cell_type": "markdown",
      "source": [
        "#RANDOM FOREST - LAPTOP"
      ],
      "metadata": {
        "id": "BHuB32_58q4k"
      }
    },
    {
      "cell_type": "code",
      "source": [
        "from sklearn.model_selection import train_test_split\n",
        "from sklearn.ensemble import RandomForestClassifier\n",
        "from sklearn.metrics import accuracy_score, classification_report\n",
        "from sklearn.impute import SimpleImputer\n",
        "from sklearn.compose import ColumnTransformer\n",
        "from sklearn.preprocessing import OneHotEncoder\n",
        "import pandas as pd\n",
        "\n",
        "# Assuming 'X' is your feature matrix and 'y' is your target variable\n",
        "# Replace 'NaN' with the actual column names in your dataset\n",
        "X_train, X_test, y_train, y_test = train_test_split(X, y, test_size=0.3, random_state=42)\n",
        "\n",
        "# Identify categorical columns\n",
        "categorical_columns = ['yearly_avg_checkins', 'member_in_family', 'preferred_location_type', 'following_company_page', 'working_flag', 'Adult_flag']\n",
        "numerical_columns = ['yearly_avg_Views', 'total_likes_checkin', 'yearly_avg_Comments', 'total_likes_user_outofstation', 'week_since_checkin', 'monthly_avg_comments', 'travelling_network_rating', 'daily_avg_mins_travel_page']\n",
        "\n",
        "# Create a ColumnTransformer to apply OneHotEncoder to categorical columns\n",
        "preprocessor = ColumnTransformer(\n",
        "    transformers=[\n",
        "        ('cat', OneHotEncoder(), categorical_columns)\n",
        "    ],\n",
        "    remainder='passthrough'\n",
        ")\n",
        "\n",
        "# Create a SimpleImputer to fill missing values with the median\n",
        "imputer = SimpleImputer(strategy='median')\n",
        "\n",
        "# Fit the transformers on the training set and transform both training and testing sets\n",
        "X_train_transformed = preprocessor.fit_transform(X_train)\n",
        "X_train_imputed = imputer.fit_transform(X_train_transformed)\n",
        "\n",
        "X_test_transformed = preprocessor.transform(X_test)\n",
        "X_test_imputed = imputer.transform(X_test_transformed)\n",
        "\n",
        "# Create a RandomForestClassifier\n",
        "rf_model = RandomForestClassifier(n_estimators=100, random_state=42)\n",
        "\n",
        "# Train the model on the training set\n",
        "rf_model.fit(X_train_imputed, y_train)\n",
        "\n",
        "# Make predictions on the testing set\n",
        "y_pred_test = rf_model.predict(X_test_imputed)\n",
        "\n",
        "# Evaluate the model on the testing set\n",
        "accuracy_test = accuracy_score(y_test, y_pred_test)\n",
        "classification_rep_test = classification_report(y_test, y_pred_test)\n",
        "\n",
        "# Make predictions on the training set\n",
        "y_pred_train = rf_model.predict(X_train_imputed)\n",
        "\n",
        "# Evaluate the model on the training set\n",
        "accuracy_train = accuracy_score(y_train, y_pred_train)\n",
        "classification_rep_train = classification_report(y_train, y_pred_train)\n",
        "\n",
        "# Print the results\n",
        "print(\"Testing Set:\")\n",
        "print(\"Accuracy:\", accuracy_test)\n",
        "print(\"Classification Report:\\n\", classification_rep_test)\n",
        "\n",
        "print(\"\\nTraining Set:\")\n",
        "print(\"Accuracy:\", accuracy_train)\n",
        "print(\"Classification Report:\\n\", classification_rep_train)"
      ],
      "metadata": {
        "colab": {
          "base_uri": "https://localhost:8080/"
        },
        "id": "dEgU7K1X8xMq",
        "outputId": "69ed3746-5baa-4224-a6b6-c6d265482e3f"
      },
      "execution_count": null,
      "outputs": [
        {
          "output_type": "stream",
          "name": "stdout",
          "text": [
            "Testing Set:\n",
            "Accuracy: 0.978978978978979\n",
            "Classification Report:\n",
            "               precision    recall  f1-score   support\n",
            "\n",
            "          No       0.98      0.99      0.99       258\n",
            "         Yes       0.97      0.93      0.95        75\n",
            "\n",
            "    accuracy                           0.98       333\n",
            "   macro avg       0.98      0.96      0.97       333\n",
            "weighted avg       0.98      0.98      0.98       333\n",
            "\n",
            "\n",
            "Training Set:\n",
            "Accuracy: 1.0\n",
            "Classification Report:\n",
            "               precision    recall  f1-score   support\n",
            "\n",
            "          No       1.00      1.00      1.00       574\n",
            "         Yes       1.00      1.00      1.00       201\n",
            "\n",
            "    accuracy                           1.00       775\n",
            "   macro avg       1.00      1.00      1.00       775\n",
            "weighted avg       1.00      1.00      1.00       775\n",
            "\n"
          ]
        }
      ]
    },
    {
      "cell_type": "markdown",
      "source": [
        "#GRADIENT BOOSTING - MOBILE"
      ],
      "metadata": {
        "id": "aWiNjSey9AMC"
      }
    },
    {
      "cell_type": "code",
      "source": [
        "from xgboost import XGBClassifier\n",
        "from sklearn.model_selection import train_test_split\n",
        "from sklearn.preprocessing import OneHotEncoder, LabelEncoder\n",
        "from sklearn.compose import ColumnTransformer\n",
        "from sklearn.pipeline import Pipeline\n",
        "from sklearn.metrics import accuracy_score, classification_report\n",
        "\n",
        "# Assuming 'X' is your feature matrix and 'y' is your target variable\n",
        "X_train, X_test, y_train, y_test = train_test_split(X, y, test_size=0.30, random_state=1)\n",
        "\n",
        "# Identify categorical columns\n",
        "categorical_columns = ['yearly_avg_checkins', 'member_in_family', 'preferred_location_type', 'following_company_page', 'working_flag', 'Adult_flag']\n",
        "\n",
        "# Create a ColumnTransformer to apply OneHotEncoder to categorical columns\n",
        "preprocessor = ColumnTransformer(\n",
        "    transformers=[\n",
        "        ('cat', OneHotEncoder(), categorical_columns)\n",
        "    ],\n",
        "    remainder='passthrough'\n",
        ")\n",
        "\n",
        "# Encode the target variable using LabelEncoder\n",
        "label_encoder = LabelEncoder()\n",
        "y_train_encoded = label_encoder.fit_transform(y_train)\n",
        "\n",
        "# Create a pipeline with preprocessing and XGBoost classifier\n",
        "xgb_model = Pipeline(steps=[\n",
        "    ('preprocessor', preprocessor),\n",
        "    ('classifier', XGBClassifier(n_estimators=100, random_state=1))\n",
        "])\n",
        "\n",
        "# Fit the model\n",
        "xgb_model.fit(X_train, y_train_encoded)\n",
        "\n",
        "# Predict on the training set\n",
        "y_train_pred_encoded = xgb_model.predict(X_train)\n",
        "y_train_pred = label_encoder.inverse_transform(y_train_pred_encoded)\n",
        "\n",
        "# Predict on the test set\n",
        "y_test_pred_encoded = xgb_model.predict(X_test)\n",
        "y_test_pred = label_encoder.inverse_transform(y_test_pred_encoded)\n",
        "\n",
        "# Evaluate the model on the training set\n",
        "accuracy_train = accuracy_score(y_train, y_train_pred)\n",
        "classification_rep_train = classification_report(y_train, y_train_pred)\n",
        "\n",
        "# Evaluate the model on the test set\n",
        "accuracy_test = accuracy_score(y_test, y_test_pred)\n",
        "classification_rep_test = classification_report(y_test, y_test_pred)\n",
        "\n",
        "# Print the results\n",
        "print(\"Training Set:\")\n",
        "print(\"Accuracy:\", accuracy_train)\n",
        "print(\"Classification Report:\\n\", classification_rep_train)\n",
        "\n",
        "print(\"\\nTest Set:\")\n",
        "print(\"Accuracy:\", accuracy_test)\n",
        "print(\"Classification Report:\\n\", classification_rep_test)\n",
        "\n"
      ],
      "metadata": {
        "colab": {
          "base_uri": "https://localhost:8080/"
        },
        "id": "rgVsbc6P5t8u",
        "outputId": "321c9db1-8bf0-4b68-f769-277234f772b8"
      },
      "execution_count": null,
      "outputs": [
        {
          "output_type": "stream",
          "name": "stdout",
          "text": [
            "Training Set:\n",
            "Accuracy: 0.9997317596566524\n",
            "Classification Report:\n",
            "               precision    recall  f1-score   support\n",
            "\n",
            "          No       1.00      1.00      1.00      6330\n",
            "         Yes       1.00      1.00      1.00      1126\n",
            "\n",
            "    accuracy                           1.00      7456\n",
            "   macro avg       1.00      1.00      1.00      7456\n",
            "weighted avg       1.00      1.00      1.00      7456\n",
            "\n",
            "\n",
            "Test Set:\n",
            "Accuracy: 0.9868585732165206\n",
            "Classification Report:\n",
            "               precision    recall  f1-score   support\n",
            "\n",
            "          No       0.99      1.00      0.99      2702\n",
            "         Yes       1.00      0.92      0.96       494\n",
            "\n",
            "    accuracy                           0.99      3196\n",
            "   macro avg       0.99      0.96      0.97      3196\n",
            "weighted avg       0.99      0.99      0.99      3196\n",
            "\n"
          ]
        }
      ]
    },
    {
      "cell_type": "markdown",
      "source": [
        "#GRADIENT BOOSTING - LAPTOP"
      ],
      "metadata": {
        "id": "-UGtBdnR9D87"
      }
    },
    {
      "cell_type": "code",
      "source": [
        "from xgboost import XGBClassifier\n",
        "from sklearn.model_selection import train_test_split\n",
        "from sklearn.preprocessing import OneHotEncoder, LabelEncoder\n",
        "from sklearn.compose import ColumnTransformer\n",
        "from sklearn.pipeline import Pipeline\n",
        "from sklearn.metrics import accuracy_score, classification_report\n",
        "\n",
        "# Assuming 'X' is your feature matrix and 'y' is your target variable\n",
        "X_train, X_test, y_train, y_test = train_test_split(X, y, test_size=0.30, random_state=1)\n",
        "\n",
        "# Identify categorical columns\n",
        "categorical_columns = ['yearly_avg_checkins', 'member_in_family', 'preferred_location_type', 'following_company_page', 'working_flag', 'Adult_flag']\n",
        "\n",
        "# Create a ColumnTransformer to apply OneHotEncoder to categorical columns\n",
        "preprocessor = ColumnTransformer(\n",
        "    transformers=[\n",
        "        ('cat', OneHotEncoder(), categorical_columns)\n",
        "    ],\n",
        "    remainder='passthrough'\n",
        ")\n",
        "\n",
        "# Encode the target variable using LabelEncoder\n",
        "label_encoder = LabelEncoder()\n",
        "y_train_encoded = label_encoder.fit_transform(y_train)\n",
        "\n",
        "# Create a pipeline with preprocessing and XGBoost classifier\n",
        "xgb_model = Pipeline(steps=[\n",
        "    ('preprocessor', preprocessor),\n",
        "    ('classifier', XGBClassifier(n_estimators=100, random_state=1))\n",
        "])\n",
        "\n",
        "# Fit the model\n",
        "xgb_model.fit(X_train, y_train_encoded)\n",
        "\n",
        "# Predict on the training set\n",
        "y_train_pred_encoded = xgb_model.predict(X_train)\n",
        "y_train_pred = label_encoder.inverse_transform(y_train_pred_encoded)\n",
        "\n",
        "# Predict on the test set\n",
        "y_test_pred_encoded = xgb_model.predict(X_test)\n",
        "y_test_pred = label_encoder.inverse_transform(y_test_pred_encoded)\n",
        "\n",
        "# Evaluate the model on the training set\n",
        "accuracy_train = accuracy_score(y_train, y_train_pred)\n",
        "classification_rep_train = classification_report(y_train, y_train_pred)\n",
        "\n",
        "# Evaluate the model on the test set\n",
        "accuracy_test = accuracy_score(y_test, y_test_pred)\n",
        "classification_rep_test = classification_report(y_test, y_test_pred)\n",
        "\n",
        "# Print the results\n",
        "print(\"Training Set:\")\n",
        "print(\"Accuracy:\", accuracy_train)\n",
        "print(\"Classification Report:\\n\", classification_rep_train)\n",
        "\n",
        "print(\"\\nTest Set:\")\n",
        "print(\"Accuracy:\", accuracy_test)\n",
        "print(\"Classification Report:\\n\", classification_rep_test)"
      ],
      "metadata": {
        "colab": {
          "base_uri": "https://localhost:8080/"
        },
        "id": "wb-tF-f49G9B",
        "outputId": "b5788039-a653-4bdd-f9f8-5bb9ab94c080"
      },
      "execution_count": null,
      "outputs": [
        {
          "output_type": "stream",
          "name": "stdout",
          "text": [
            "Training Set:\n",
            "Accuracy: 1.0\n",
            "Classification Report:\n",
            "               precision    recall  f1-score   support\n",
            "\n",
            "          No       1.00      1.00      1.00       594\n",
            "         Yes       1.00      1.00      1.00       181\n",
            "\n",
            "    accuracy                           1.00       775\n",
            "   macro avg       1.00      1.00      1.00       775\n",
            "weighted avg       1.00      1.00      1.00       775\n",
            "\n",
            "\n",
            "Test Set:\n",
            "Accuracy: 0.984984984984985\n",
            "Classification Report:\n",
            "               precision    recall  f1-score   support\n",
            "\n",
            "          No       0.98      1.00      0.99       238\n",
            "         Yes       1.00      0.95      0.97        95\n",
            "\n",
            "    accuracy                           0.98       333\n",
            "   macro avg       0.99      0.97      0.98       333\n",
            "weighted avg       0.99      0.98      0.98       333\n",
            "\n"
          ]
        }
      ]
    },
    {
      "cell_type": "markdown",
      "source": [
        "#SMOTE - MOBILE"
      ],
      "metadata": {
        "id": "10HZwNsy9-SW"
      }
    },
    {
      "cell_type": "code",
      "source": [
        "df['preferred_device'] = df['preferred_device'].str.strip().str.lower()\n",
        "mdf = df[df['preferred_device'] == 'mobile']\n",
        "ldf = df[df['preferred_device'] == 'laptop']"
      ],
      "metadata": {
        "id": "7rZ-VPxBAQk-"
      },
      "execution_count": null,
      "outputs": []
    },
    {
      "cell_type": "code",
      "source": [
        "s_mdf = mdf"
      ],
      "metadata": {
        "id": "rsUiBqJ8AMlO"
      },
      "execution_count": null,
      "outputs": []
    },
    {
      "cell_type": "code",
      "source": [
        "X = s_mdf.drop('Buy_Ticket', axis=1)\n",
        "y = s_mdf['Buy_Ticket']"
      ],
      "metadata": {
        "id": "PZBcuv7oAU4S"
      },
      "execution_count": null,
      "outputs": []
    },
    {
      "cell_type": "code",
      "source": [
        "# Impute categorical variables with mode\n",
        "categorical_columns = s_mdf.select_dtypes(include='object').columns\n",
        "df[categorical_columns] = df[categorical_columns].fillna(df[categorical_columns].mode().iloc[0])\n",
        "\n",
        "# Impute numerical variables with mean\n",
        "numerical_columns = s_mdf.select_dtypes(include='number').columns\n",
        "df[numerical_columns] = df[numerical_columns].fillna(df[numerical_columns].mean())"
      ],
      "metadata": {
        "id": "BA-GzNZ1FyYj"
      },
      "execution_count": null,
      "outputs": []
    },
    {
      "cell_type": "code",
      "source": [
        "s_mdf['preferred_device'].replace({'mobile':'0', 'laptop':'1'}, inplace=True)"
      ],
      "metadata": {
        "id": "r9zfHFCnBphG"
      },
      "execution_count": null,
      "outputs": []
    },
    {
      "cell_type": "code",
      "source": [
        "from imblearn.over_sampling import SMOTE\n",
        "from sklearn.model_selection import train_test_split\n",
        "from sklearn.impute import SimpleImputer\n",
        "from sklearn.preprocessing import StandardScaler\n",
        "import pandas as pd\n",
        "\n",
        "# Assuming 'df' is your DataFrame with features and 'target_variable' is your target variable\n",
        "X = s_mdf.drop(['Buy_Ticket', 'preferred_device'], axis=1)\n",
        "y = s_mdf['Buy_Ticket']\n",
        "\n",
        "# Split the dataset into training and testing sets\n",
        "X_train, X_test, y_train, y_test = train_test_split(X, y, test_size=0.30, random_state=1)\n",
        "\n",
        "# Identify categorical columns\n",
        "categorical_columns = ['yearly_avg_checkins', 'member_in_family', 'preferred_location_type', 'following_company_page', 'working_flag', 'Adult_flag']\n",
        "\n",
        "# Apply any necessary preprocessing steps, e.g., encoding categorical variables, scaling, etc.\n",
        "df_encoded = pd.get_dummies(s_mdf, columns=categorical_columns, drop_first=True)\n",
        "\n",
        "# Impute missing values\n",
        "imputer = SimpleImputer(strategy='mean')  # You can choose another strategy if needed\n",
        "X_train_imputed = imputer.fit_transform(X_train)\n",
        "\n",
        "# Apply SMOTE to the training data\n",
        "smote = SMOTE(random_state=1)\n",
        "X_train_re, y_train_re = smote.fit_resample(X_train_imputed, y_train)\n",
        "\n",
        "# Check the class distribution before and after SMOTE\n",
        "print(\"Class distribution before SMOTE:\")\n",
        "print(y_train.value_counts())\n",
        "\n",
        "print(\"\\nClass distribution after SMOTE:\")\n",
        "print(pd.Series(y_train_re).value_counts())\n",
        "\n"
      ],
      "metadata": {
        "colab": {
          "base_uri": "https://localhost:8080/"
        },
        "id": "_Jq_swtcALm6",
        "outputId": "0421e2d1-3cc4-416a-b1b2-1c600857e567"
      },
      "execution_count": null,
      "outputs": [
        {
          "output_type": "stream",
          "name": "stdout",
          "text": [
            "Class distribution before SMOTE:\n",
            "No     6330\n",
            "Yes    1126\n",
            "Name: Buy_Ticket, dtype: int64\n",
            "\n",
            "Class distribution after SMOTE:\n",
            "Yes    6330\n",
            "No     6330\n",
            "Name: Buy_Ticket, dtype: int64\n"
          ]
        }
      ]
    },
    {
      "cell_type": "code",
      "source": [
        "from sklearn.model_selection import train_test_split\n",
        "\n",
        "X_train, X_test, y_train, y_test = train_test_split(X_train_re, y_train_re, test_size=0.3, random_state=42)"
      ],
      "metadata": {
        "id": "ledYiAkmC3lJ"
      },
      "execution_count": null,
      "outputs": []
    },
    {
      "cell_type": "code",
      "source": [
        "from sklearn.model_selection import train_test_split\n",
        "from sklearn.preprocessing import StandardScaler, OneHotEncoder\n",
        "from sklearn.impute import SimpleImputer\n",
        "from sklearn.compose import ColumnTransformer\n",
        "from sklearn.pipeline import Pipeline\n",
        "from sklearn.neighbors import KNeighborsClassifier\n",
        "from sklearn.metrics import accuracy_score, classification_report\n",
        "\n",
        "# Assuming 'X' is your feature matrix and 'y' is your target variable\n",
        "X_train, X_test, y_train, y_test = train_test_split(X, y, test_size=0.30, random_state=1, stratify=mdf['Buy_Ticket'])\n",
        "\n",
        "# Identify categorical and numerical columns\n",
        "categorical_columns = ['yearly_avg_checkins', 'member_in_family', 'preferred_location_type', 'following_company_page', 'working_flag', 'Adult_flag']\n",
        "numerical_columns = ['yearly_avg_Views', 'total_likes_checkin', 'yearly_avg_Comments', 'total_likes_user_outofstation', 'week_since_checkin', 'monthly_avg_comments', 'travelling_network_rating', 'daily_avg_mins_travel_page']\n",
        "\n",
        "# Create a column transformer for preprocessing\n",
        "preprocessor = ColumnTransformer(\n",
        "    transformers=[\n",
        "        ('num', SimpleImputer(strategy='mean'), numerical_columns),\n",
        "        ('cat', OneHotEncoder(), categorical_columns)\n",
        "    ],\n",
        "    remainder='passthrough'\n",
        ")\n",
        "\n",
        "# Create the KNN model with the preprocessing step\n",
        "knn_model = KNeighborsClassifier(n_neighbors=5)\n",
        "model = Pipeline(steps=[('preprocessor', preprocessor),\n",
        "                        ('classifier', knn_model)])\n",
        "\n",
        "# Train the model\n",
        "model.fit(X_train, y_train)\n",
        "\n",
        "# Predict on the test set\n",
        "y_pred_test = model.predict(X_test)\n",
        "\n",
        "# Evaluate the model on the test set\n",
        "accuracy_test = accuracy_score(y_test, y_pred_test)\n",
        "classification_rep_test = classification_report(y_test, y_pred_test)\n",
        "\n",
        "# Predict on the training set\n",
        "y_pred_train = model.predict(X_train)\n",
        "\n",
        "# Evaluate the model on the training set\n",
        "accuracy_train = accuracy_score(y_train, y_pred_train)\n",
        "classification_rep_train = classification_report(y_train, y_pred_train)\n",
        "\n",
        "# Display the results\n",
        "print(\"Test Set:\")\n",
        "print(f\"Accuracy: {accuracy_test:.4f}\")\n",
        "print(\"Classification Report:\\n\", classification_rep_test)\n",
        "\n",
        "print(\"\\nTraining Set:\")\n",
        "print(f\"Accuracy: {accuracy_train:.4f}\")\n",
        "print(\"Classification Report:\\n\", classification_rep_train)"
      ],
      "metadata": {
        "colab": {
          "base_uri": "https://localhost:8080/"
        },
        "id": "eKZTFZhUJ6uE",
        "outputId": "eed525be-3392-46ed-b707-f73df0e2f414"
      },
      "execution_count": null,
      "outputs": [
        {
          "output_type": "stream",
          "name": "stdout",
          "text": [
            "Test Set:\n",
            "Accuracy: 0.9706\n",
            "Classification Report:\n",
            "               precision    recall  f1-score   support\n",
            "\n",
            "          No       0.98      0.99      0.98      2710\n",
            "         Yes       0.93      0.87      0.90       486\n",
            "\n",
            "    accuracy                           0.97      3196\n",
            "   macro avg       0.95      0.93      0.94      3196\n",
            "weighted avg       0.97      0.97      0.97      3196\n",
            "\n",
            "\n",
            "Training Set:\n",
            "Accuracy: 0.9848\n",
            "Classification Report:\n",
            "               precision    recall  f1-score   support\n",
            "\n",
            "          No       0.99      1.00      0.99      6322\n",
            "         Yes       0.98      0.92      0.95      1134\n",
            "\n",
            "    accuracy                           0.98      7456\n",
            "   macro avg       0.98      0.96      0.97      7456\n",
            "weighted avg       0.98      0.98      0.98      7456\n",
            "\n"
          ]
        }
      ]
    },
    {
      "cell_type": "code",
      "source": [
        "from sklearn.impute import SimpleImputer\n",
        "from sklearn.neighbors import KNeighborsClassifier\n",
        "from sklearn.pipeline import Pipeline\n",
        "from sklearn.model_selection import train_test_split\n",
        "from sklearn.metrics import accuracy_score, classification_report\n",
        "from sklearn.inspection import permutation_importance\n",
        "# Assuming 'X' is your feature matrix and 'y' is your target variable\n",
        "# Replace 'NaN' with the actual column names in your dataset\n",
        "X_train, X_test, y_train, y_test = train_test_split(X, y, test_size=0.3, random_state=42)\n",
        "\n",
        "# Identify categorical columns\n",
        "categorical_columns = ['yearly_avg_checkins', 'member_in_family', 'preferred_location_type', 'following_company_page', 'working_flag', 'Adult_flag']\n",
        "numerical_columns = ['yearly_avg_Views', 'total_likes_checkin', 'yearly_avg_Comments', 'total_likes_user_outofstation', 'week_since_checkin', 'monthly_avg_comments', 'travelling_network_rating', 'daily_avg_mins_travel_page']\n",
        "\n",
        "# Create a ColumnTransformer to apply SimpleImputer to numerical columns\n",
        "preprocessor = ColumnTransformer(\n",
        "    transformers=[\n",
        "        ('num', SimpleImputer(strategy='mean'), numerical_columns),\n",
        "        ('cat', OneHotEncoder(), categorical_columns)\n",
        "    ],\n",
        "    remainder='passthrough'\n",
        ")\n",
        "\n",
        "# Create a pipeline with preprocessing and KNeighborsClassifier\n",
        "knn_model = Pipeline(steps=[\n",
        "    ('preprocessor', preprocessor),\n",
        "    ('classifier', KNeighborsClassifier(n_neighbors=5))\n",
        "])\n",
        "\n",
        "# Train the model\n",
        "knn_model.fit(X_train, y_train)\n",
        "\n",
        "# Predict on the test set\n",
        "y_pred = knn_model.predict(X_test)\n",
        "\n",
        "# Evaluate the model\n",
        "accuracy = accuracy_score(y_test, y_pred)\n",
        "classification_rep = classification_report(y_test, y_pred)\n",
        "\n",
        "# Display the results\n",
        "print(f\"Accuracy: {accuracy:.4f}\")\n",
        "print(\"Classification Report:\\n\", classification_rep)\n",
        "\n",
        "# Assuming X_test_scaled is your NumPy array\n",
        "X_test_df = pd.DataFrame(X_test, columns= ['yearly_avg_Views', 'total_likes_checkin', 'yearly_avg_checkins',\n",
        "       'member_in_family', 'preferred_location_type', 'yearly_avg_Comments',\n",
        "       'total_likes_user_outofstation', 'week_since_checkin',\n",
        "       'following_company_page', 'monthly_avg_comments', 'working_flag',\n",
        "       'travelling_network_rating', 'Adult_flag',\n",
        "       'daily_avg_mins_travel_page'])  # Replace your_column_names with the actual column names\n",
        "\n",
        "# Calculate permutation feature importance\n",
        "result = permutation_importance(knn_model, X_test_df, y_test, n_repeats=10, random_state=1, n_jobs=-1)\n",
        "\n",
        "# Get feature names\n",
        "feature_names = X_test_df.columns\n",
        "\n",
        "# Check if the lengths match\n",
        "if len(feature_names) == len(result.importances_mean):\n",
        "    # Create a DataFrame to display feature importance with their corresponding feature names\n",
        "    feature_importance_df = pd.DataFrame({'Feature': feature_names, 'Importance': result.importances_mean})\n",
        "\n",
        "    # Sort the DataFrame by the `Importance` column\n",
        "    feature_importance_df = feature_importance_df.sort_values(by='Importance', ascending=False)\n",
        "\n",
        "    # Print feature importance\n",
        "    print(feature_importance_df)"
      ],
      "metadata": {
        "colab": {
          "base_uri": "https://localhost:8080/"
        },
        "id": "rN4ZQD-rbVEP",
        "outputId": "bf8545fb-98ac-4445-b173-81c404153e5c"
      },
      "execution_count": null,
      "outputs": [
        {
          "output_type": "stream",
          "name": "stdout",
          "text": [
            "Accuracy: 0.9687\n",
            "Classification Report:\n",
            "               precision    recall  f1-score   support\n",
            "\n",
            "          No       0.97      0.99      0.98      2743\n",
            "         Yes       0.95      0.82      0.88       453\n",
            "\n",
            "    accuracy                           0.97      3196\n",
            "   macro avg       0.96      0.91      0.93      3196\n",
            "weighted avg       0.97      0.97      0.97      3196\n",
            "\n",
            "                          Feature  Importance\n",
            "1             total_likes_checkin    0.192272\n",
            "6   total_likes_user_outofstation    0.189018\n",
            "0                yearly_avg_Views    0.010263\n",
            "5             yearly_avg_Comments    0.002159\n",
            "9            monthly_avg_comments    0.000031\n",
            "13     daily_avg_mins_travel_page    0.000031\n",
            "2             yearly_avg_checkins    0.000000\n",
            "3                member_in_family    0.000000\n",
            "4         preferred_location_type    0.000000\n",
            "7              week_since_checkin    0.000000\n",
            "8          following_company_page    0.000000\n",
            "10                   working_flag    0.000000\n",
            "11      travelling_network_rating    0.000000\n",
            "12                     Adult_flag    0.000000\n"
          ]
        }
      ]
    },
    {
      "cell_type": "markdown",
      "source": [
        "#SMOTE - LAPTOP"
      ],
      "metadata": {
        "id": "BuKqYIDcctW4"
      }
    },
    {
      "cell_type": "code",
      "source": [
        "s_ldf = ldf"
      ],
      "metadata": {
        "id": "NoxoMFeYGz0w"
      },
      "execution_count": null,
      "outputs": []
    },
    {
      "cell_type": "code",
      "source": [
        "from imblearn.over_sampling import SMOTE\n",
        "from sklearn.model_selection import train_test_split\n",
        "from sklearn.impute import SimpleImputer\n",
        "from sklearn.preprocessing import StandardScaler\n",
        "import pandas as pd\n",
        "\n",
        "# Assuming 'df' is your DataFrame with features and 'target_variable' is your target variable\n",
        "X = s_ldf.drop(['Buy_Ticket', 'preferred_device'], axis=1)\n",
        "y = s_ldf['Buy_Ticket']\n",
        "\n",
        "# Split the dataset into training and testing sets\n",
        "X_train, X_test, y_train, y_test = train_test_split(X, y, test_size=0.30, random_state=1)\n",
        "\n",
        "# Identify categorical columns\n",
        "categorical_columns = ['yearly_avg_checkins', 'member_in_family', 'preferred_location_type', 'following_company_page', 'working_flag', 'Adult_flag']\n",
        "\n",
        "# Apply any necessary preprocessing steps, e.g., encoding categorical variables, scaling, etc.\n",
        "df_encoded = pd.get_dummies(s_mdf, columns=categorical_columns, drop_first=True)\n",
        "\n",
        "# Impute missing values\n",
        "imputer = SimpleImputer(strategy='mean')  # You can choose another strategy if needed\n",
        "X_train_imputed = imputer.fit_transform(X_train)\n",
        "\n",
        "# Apply SMOTE to the training data\n",
        "smote = SMOTE(random_state=1)\n",
        "X_train_re, y_train_re = smote.fit_resample(X_train_imputed, y_train)\n",
        "\n",
        "# Check the class distribution before and after SMOTE\n",
        "print(\"Class distribution before SMOTE:\")\n",
        "print(y_train.value_counts())\n",
        "\n",
        "print(\"\\nClass distribution after SMOTE:\")\n",
        "print(pd.Series(y_train_re).value_counts())"
      ],
      "metadata": {
        "colab": {
          "base_uri": "https://localhost:8080/"
        },
        "id": "KXtLoLW3cwXG",
        "outputId": "e9ab0c06-410e-43a3-9d1e-a55ce8d4d403"
      },
      "execution_count": null,
      "outputs": [
        {
          "output_type": "stream",
          "name": "stdout",
          "text": [
            "Class distribution before SMOTE:\n",
            "No     594\n",
            "Yes    181\n",
            "Name: Buy_Ticket, dtype: int64\n",
            "\n",
            "Class distribution after SMOTE:\n",
            "No     594\n",
            "Yes    594\n",
            "Name: Buy_Ticket, dtype: int64\n"
          ]
        }
      ]
    },
    {
      "cell_type": "code",
      "source": [
        "from sklearn.model_selection import train_test_split\n",
        "\n",
        "X_train, X_test, y_train, y_test = train_test_split(X_train_re, y_train_re, test_size=0.3, random_state=42)"
      ],
      "metadata": {
        "id": "XFRJL8AUdIGu"
      },
      "execution_count": null,
      "outputs": []
    },
    {
      "cell_type": "code",
      "source": [
        "from sklearn.model_selection import train_test_split\n",
        "from sklearn.preprocessing import StandardScaler, OneHotEncoder\n",
        "from sklearn.impute import SimpleImputer\n",
        "from sklearn.compose import ColumnTransformer\n",
        "from sklearn.pipeline import Pipeline\n",
        "from sklearn.neighbors import KNeighborsClassifier\n",
        "from sklearn.metrics import accuracy_score, classification_report\n",
        "\n",
        "# Assuming 'X' is your feature matrix and 'y' is your target variable\n",
        "X_train, X_test, y_train, y_test = train_test_split(X, y, test_size=0.30, random_state=1, stratify=ldf['Buy_Ticket'])\n",
        "\n",
        "# Identify categorical and numerical columns\n",
        "categorical_columns = ['yearly_avg_checkins', 'member_in_family', 'preferred_location_type', 'following_company_page', 'working_flag', 'Adult_flag']\n",
        "numerical_columns = ['yearly_avg_Views', 'total_likes_checkin', 'yearly_avg_Comments', 'total_likes_user_outofstation', 'week_since_checkin', 'monthly_avg_comments', 'travelling_network_rating', 'daily_avg_mins_travel_page']\n",
        "\n",
        "# Create a column transformer for preprocessing\n",
        "preprocessor = ColumnTransformer(\n",
        "    transformers=[\n",
        "        ('num', SimpleImputer(strategy='mean'), numerical_columns),\n",
        "        ('cat', OneHotEncoder(), categorical_columns)\n",
        "    ],\n",
        "    remainder='passthrough'\n",
        ")\n",
        "\n",
        "# Create the KNN model with the preprocessing step\n",
        "knn_model = KNeighborsClassifier(n_neighbors=5)\n",
        "model = Pipeline(steps=[('preprocessor', preprocessor),\n",
        "                        ('classifier', knn_model)])\n",
        "\n",
        "# Train the model\n",
        "model.fit(X_train, y_train)\n",
        "\n",
        "# Predict on the test set\n",
        "y_pred_test = model.predict(X_test)\n",
        "\n",
        "# Evaluate the model on the test set\n",
        "accuracy_test = accuracy_score(y_test, y_pred_test)\n",
        "classification_rep_test = classification_report(y_test, y_pred_test)\n",
        "\n",
        "# Predict on the training set\n",
        "y_pred_train = model.predict(X_train)\n",
        "\n",
        "# Evaluate the model on the training set\n",
        "accuracy_train = accuracy_score(y_train, y_pred_train)\n",
        "classification_rep_train = classification_report(y_train, y_pred_train)\n",
        "\n",
        "# Display the results\n",
        "print(\"Test Set:\")\n",
        "print(f\"Accuracy: {accuracy_test:.4f}\")\n",
        "print(\"Classification Report:\\n\", classification_rep_test)\n",
        "\n",
        "print(\"\\nTraining Set:\")\n",
        "print(f\"Accuracy: {accuracy_train:.4f}\")\n",
        "print(\"Classification Report:\\n\", classification_rep_train)"
      ],
      "metadata": {
        "colab": {
          "base_uri": "https://localhost:8080/"
        },
        "id": "hABJbSOidIDm",
        "outputId": "38d54ecc-495f-430c-abfe-f2e66561881c"
      },
      "execution_count": null,
      "outputs": [
        {
          "output_type": "stream",
          "name": "stdout",
          "text": [
            "Test Set:\n",
            "Accuracy: 0.8438\n",
            "Classification Report:\n",
            "               precision    recall  f1-score   support\n",
            "\n",
            "          No       0.87      0.93      0.90       250\n",
            "         Yes       0.73      0.59      0.65        83\n",
            "\n",
            "    accuracy                           0.84       333\n",
            "   macro avg       0.80      0.76      0.78       333\n",
            "weighted avg       0.84      0.84      0.84       333\n",
            "\n",
            "\n",
            "Training Set:\n",
            "Accuracy: 0.9497\n",
            "Classification Report:\n",
            "               precision    recall  f1-score   support\n",
            "\n",
            "          No       0.95      0.98      0.97       582\n",
            "         Yes       0.94      0.85      0.89       193\n",
            "\n",
            "    accuracy                           0.95       775\n",
            "   macro avg       0.95      0.92      0.93       775\n",
            "weighted avg       0.95      0.95      0.95       775\n",
            "\n"
          ]
        }
      ]
    }
  ]
}